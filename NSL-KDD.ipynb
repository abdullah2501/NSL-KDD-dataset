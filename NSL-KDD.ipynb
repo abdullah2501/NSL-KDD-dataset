{
 "cells": [
  {
   "cell_type": "markdown",
   "id": "6c84bd8c-bc49-4e48-a569-652cfcdd5e03",
   "metadata": {
    "tags": []
   },
   "source": [
    "# Machine Learning Final Task:"
   ]
  },
  {
   "cell_type": "code",
   "execution_count": null,
   "id": "611b526a-884d-4633-a742-d96273ebd172",
   "metadata": {},
   "outputs": [],
   "source": []
  },
  {
   "cell_type": "markdown",
   "id": "e4d6ad2b-3532-4e69-80a8-ab11507f5307",
   "metadata": {
    "tags": []
   },
   "source": [
    "# Imports:"
   ]
  },
  {
   "cell_type": "code",
   "execution_count": 1,
   "id": "f6130b13-db25-4222-8109-4f55080404df",
   "metadata": {
    "tags": []
   },
   "outputs": [],
   "source": [
    "import joblib\n",
    "import warnings\n",
    "import pandas            as pd\n",
    "import numpy             as np\n",
    "import matplotlib.pyplot as plt\n",
    "import scipy.stats       as stats\n",
    "import plotly.express    as px\n",
    "import seaborn           as sns\n",
    "from collections                          import Counter\n",
    "from scipy.io                             import arff\n",
    "from sklearn                              import metrics, linear_model\n",
    "from sklearn.svm                          import SVC\n",
    "from sklearn.feature_selection            import RFE\n",
    "from sklearn.naive_bayes                  import GaussianNB\n",
    "from sklearn.impute                       import SimpleImputer\n",
    "from sklearn.neighbors                    import KNeighborsClassifier\n",
    "from sklearn.linear_model                 import LogisticRegression , LinearRegression , Lasso\n",
    "from sklearn.ensemble                     import RandomForestRegressor , RandomForestClassifier\n",
    "from sklearn.tree                         import DecisionTreeClassifier , DecisionTreeRegressor\n",
    "from sklearn.model_selection              import GridSearchCV , train_test_split , cross_val_score\n",
    "from sklearn.preprocessing                import StandardScaler, LabelEncoder, RobustScaler , OneHotEncoder\n",
    "from sklearn.metrics                      import accuracy_score , roc_auc_score , roc_curve , r2_score , f1_score\n",
    "from sklearn.metrics                      import confusion_matrix , classification_report , mean_absolute_error , mean_squared_error\n",
    "from imblearn.over_sampling               import SMOTE\n",
    "from imblearn.under_sampling              import TomekLinks\n",
    "from statsmodels.stats.outliers_influence import variance_inflation_factor\n",
    "from sklearn.compose                      import ColumnTransformer\n",
    "\n",
    "\n",
    "\n",
    "\n",
    "\n",
    "warnings.filterwarnings('ignore')\n"
   ]
  },
  {
   "cell_type": "markdown",
   "id": "32633842-c06e-4b20-8723-d37deefad008",
   "metadata": {
    "tags": []
   },
   "source": [
    "# Reading and Cleaning first dataset"
   ]
  },
  {
   "cell_type": "markdown",
   "id": "98778f10-80fc-434e-99e4-147d4716ac8f",
   "metadata": {
    "tags": []
   },
   "source": [
    "#### Reading the data:"
   ]
  },
  {
   "cell_type": "code",
   "execution_count": 2,
   "id": "d25944ee-02b1-436b-adcc-e5d563ca6e07",
   "metadata": {
    "tags": []
   },
   "outputs": [
    {
     "data": {
      "text/html": [
       "<div>\n",
       "<style scoped>\n",
       "    .dataframe tbody tr th:only-of-type {\n",
       "        vertical-align: middle;\n",
       "    }\n",
       "\n",
       "    .dataframe tbody tr th {\n",
       "        vertical-align: top;\n",
       "    }\n",
       "\n",
       "    .dataframe thead th {\n",
       "        text-align: right;\n",
       "    }\n",
       "</style>\n",
       "<table border=\"1\" class=\"dataframe\">\n",
       "  <thead>\n",
       "    <tr style=\"text-align: right;\">\n",
       "      <th></th>\n",
       "      <th>ID</th>\n",
       "      <th>duration</th>\n",
       "      <th>protocol_type</th>\n",
       "      <th>service</th>\n",
       "      <th>flag</th>\n",
       "      <th>src_bytes</th>\n",
       "      <th>dst_bytes</th>\n",
       "      <th>land</th>\n",
       "      <th>wrong_fragment</th>\n",
       "      <th>urgent</th>\n",
       "      <th>...</th>\n",
       "      <th>dst_host_same_srv_rate</th>\n",
       "      <th>dst_host_diff_srv_rate</th>\n",
       "      <th>dst_host_same_src_port_rate</th>\n",
       "      <th>dst_host_srv_diff_host_rate</th>\n",
       "      <th>dst_host_serror_rate</th>\n",
       "      <th>dst_host_srv_serror_rate</th>\n",
       "      <th>dst_host_rerror_rate</th>\n",
       "      <th>dst_host_srv_rerror_rate</th>\n",
       "      <th>level</th>\n",
       "      <th>Class</th>\n",
       "    </tr>\n",
       "  </thead>\n",
       "  <tbody>\n",
       "    <tr>\n",
       "      <th>0</th>\n",
       "      <td>7060</td>\n",
       "      <td>0</td>\n",
       "      <td>tcp</td>\n",
       "      <td>smtp</td>\n",
       "      <td>SF</td>\n",
       "      <td>1129</td>\n",
       "      <td>327</td>\n",
       "      <td>0</td>\n",
       "      <td>0</td>\n",
       "      <td>0</td>\n",
       "      <td>...</td>\n",
       "      <td>1.00</td>\n",
       "      <td>0.00</td>\n",
       "      <td>0.14</td>\n",
       "      <td>0.02</td>\n",
       "      <td>0.00</td>\n",
       "      <td>0.04</td>\n",
       "      <td>0.0</td>\n",
       "      <td>0.01</td>\n",
       "      <td>21</td>\n",
       "      <td>0</td>\n",
       "    </tr>\n",
       "    <tr>\n",
       "      <th>1</th>\n",
       "      <td>22036</td>\n",
       "      <td>0</td>\n",
       "      <td>tcp</td>\n",
       "      <td>http</td>\n",
       "      <td>SF</td>\n",
       "      <td>242</td>\n",
       "      <td>2147</td>\n",
       "      <td>0</td>\n",
       "      <td>0</td>\n",
       "      <td>0</td>\n",
       "      <td>...</td>\n",
       "      <td>1.00</td>\n",
       "      <td>0.00</td>\n",
       "      <td>0.00</td>\n",
       "      <td>0.00</td>\n",
       "      <td>0.00</td>\n",
       "      <td>0.00</td>\n",
       "      <td>0.0</td>\n",
       "      <td>0.00</td>\n",
       "      <td>21</td>\n",
       "      <td>0</td>\n",
       "    </tr>\n",
       "    <tr>\n",
       "      <th>2</th>\n",
       "      <td>19555</td>\n",
       "      <td>0</td>\n",
       "      <td>tcp</td>\n",
       "      <td>http</td>\n",
       "      <td>SF</td>\n",
       "      <td>299</td>\n",
       "      <td>3991</td>\n",
       "      <td>0</td>\n",
       "      <td>0</td>\n",
       "      <td>0</td>\n",
       "      <td>...</td>\n",
       "      <td>1.00</td>\n",
       "      <td>0.00</td>\n",
       "      <td>0.00</td>\n",
       "      <td>0.00</td>\n",
       "      <td>0.00</td>\n",
       "      <td>0.00</td>\n",
       "      <td>0.0</td>\n",
       "      <td>0.00</td>\n",
       "      <td>21</td>\n",
       "      <td>0</td>\n",
       "    </tr>\n",
       "    <tr>\n",
       "      <th>3</th>\n",
       "      <td>11393</td>\n",
       "      <td>0</td>\n",
       "      <td>udp</td>\n",
       "      <td>domain_u</td>\n",
       "      <td>SF</td>\n",
       "      <td>43</td>\n",
       "      <td>133</td>\n",
       "      <td>0</td>\n",
       "      <td>0</td>\n",
       "      <td>0</td>\n",
       "      <td>...</td>\n",
       "      <td>1.00</td>\n",
       "      <td>0.01</td>\n",
       "      <td>0.00</td>\n",
       "      <td>0.00</td>\n",
       "      <td>0.00</td>\n",
       "      <td>0.00</td>\n",
       "      <td>0.0</td>\n",
       "      <td>0.00</td>\n",
       "      <td>21</td>\n",
       "      <td>0</td>\n",
       "    </tr>\n",
       "    <tr>\n",
       "      <th>4</th>\n",
       "      <td>22783</td>\n",
       "      <td>0</td>\n",
       "      <td>tcp</td>\n",
       "      <td>telnet</td>\n",
       "      <td>S0</td>\n",
       "      <td>0</td>\n",
       "      <td>0</td>\n",
       "      <td>0</td>\n",
       "      <td>0</td>\n",
       "      <td>0</td>\n",
       "      <td>...</td>\n",
       "      <td>0.14</td>\n",
       "      <td>0.19</td>\n",
       "      <td>0.05</td>\n",
       "      <td>0.00</td>\n",
       "      <td>0.10</td>\n",
       "      <td>0.67</td>\n",
       "      <td>0.0</td>\n",
       "      <td>0.00</td>\n",
       "      <td>4</td>\n",
       "      <td>0</td>\n",
       "    </tr>\n",
       "    <tr>\n",
       "      <th>...</th>\n",
       "      <td>...</td>\n",
       "      <td>...</td>\n",
       "      <td>...</td>\n",
       "      <td>...</td>\n",
       "      <td>...</td>\n",
       "      <td>...</td>\n",
       "      <td>...</td>\n",
       "      <td>...</td>\n",
       "      <td>...</td>\n",
       "      <td>...</td>\n",
       "      <td>...</td>\n",
       "      <td>...</td>\n",
       "      <td>...</td>\n",
       "      <td>...</td>\n",
       "      <td>...</td>\n",
       "      <td>...</td>\n",
       "      <td>...</td>\n",
       "      <td>...</td>\n",
       "      <td>...</td>\n",
       "      <td>...</td>\n",
       "      <td>...</td>\n",
       "    </tr>\n",
       "    <tr>\n",
       "      <th>14676</th>\n",
       "      <td>8562</td>\n",
       "      <td>0</td>\n",
       "      <td>tcp</td>\n",
       "      <td>smtp</td>\n",
       "      <td>SF</td>\n",
       "      <td>3873</td>\n",
       "      <td>337</td>\n",
       "      <td>0</td>\n",
       "      <td>0</td>\n",
       "      <td>0</td>\n",
       "      <td>...</td>\n",
       "      <td>0.83</td>\n",
       "      <td>0.03</td>\n",
       "      <td>0.01</td>\n",
       "      <td>0.01</td>\n",
       "      <td>0.00</td>\n",
       "      <td>0.00</td>\n",
       "      <td>0.0</td>\n",
       "      <td>0.00</td>\n",
       "      <td>21</td>\n",
       "      <td>0</td>\n",
       "    </tr>\n",
       "    <tr>\n",
       "      <th>14677</th>\n",
       "      <td>11680</td>\n",
       "      <td>0</td>\n",
       "      <td>tcp</td>\n",
       "      <td>smtp</td>\n",
       "      <td>SF</td>\n",
       "      <td>767</td>\n",
       "      <td>335</td>\n",
       "      <td>0</td>\n",
       "      <td>0</td>\n",
       "      <td>0</td>\n",
       "      <td>...</td>\n",
       "      <td>0.50</td>\n",
       "      <td>0.03</td>\n",
       "      <td>0.00</td>\n",
       "      <td>0.00</td>\n",
       "      <td>0.00</td>\n",
       "      <td>0.00</td>\n",
       "      <td>0.0</td>\n",
       "      <td>0.00</td>\n",
       "      <td>21</td>\n",
       "      <td>0</td>\n",
       "    </tr>\n",
       "    <tr>\n",
       "      <th>14678</th>\n",
       "      <td>1091</td>\n",
       "      <td>0</td>\n",
       "      <td>tcp</td>\n",
       "      <td>http</td>\n",
       "      <td>SF</td>\n",
       "      <td>162</td>\n",
       "      <td>19994</td>\n",
       "      <td>0</td>\n",
       "      <td>0</td>\n",
       "      <td>0</td>\n",
       "      <td>...</td>\n",
       "      <td>1.00</td>\n",
       "      <td>0.00</td>\n",
       "      <td>0.07</td>\n",
       "      <td>0.04</td>\n",
       "      <td>0.07</td>\n",
       "      <td>0.00</td>\n",
       "      <td>0.0</td>\n",
       "      <td>0.00</td>\n",
       "      <td>21</td>\n",
       "      <td>0</td>\n",
       "    </tr>\n",
       "    <tr>\n",
       "      <th>14679</th>\n",
       "      <td>2992</td>\n",
       "      <td>0</td>\n",
       "      <td>udp</td>\n",
       "      <td>domain_u</td>\n",
       "      <td>SF</td>\n",
       "      <td>44</td>\n",
       "      <td>80</td>\n",
       "      <td>0</td>\n",
       "      <td>0</td>\n",
       "      <td>0</td>\n",
       "      <td>...</td>\n",
       "      <td>1.00</td>\n",
       "      <td>0.01</td>\n",
       "      <td>0.00</td>\n",
       "      <td>0.00</td>\n",
       "      <td>0.00</td>\n",
       "      <td>0.00</td>\n",
       "      <td>0.0</td>\n",
       "      <td>0.00</td>\n",
       "      <td>20</td>\n",
       "      <td>0</td>\n",
       "    </tr>\n",
       "    <tr>\n",
       "      <th>14680</th>\n",
       "      <td>22066</td>\n",
       "      <td>3</td>\n",
       "      <td>tcp</td>\n",
       "      <td>smtp</td>\n",
       "      <td>SF</td>\n",
       "      <td>705</td>\n",
       "      <td>329</td>\n",
       "      <td>0</td>\n",
       "      <td>0</td>\n",
       "      <td>0</td>\n",
       "      <td>...</td>\n",
       "      <td>0.72</td>\n",
       "      <td>0.06</td>\n",
       "      <td>0.01</td>\n",
       "      <td>0.01</td>\n",
       "      <td>0.00</td>\n",
       "      <td>0.00</td>\n",
       "      <td>0.0</td>\n",
       "      <td>0.00</td>\n",
       "      <td>21</td>\n",
       "      <td>0</td>\n",
       "    </tr>\n",
       "  </tbody>\n",
       "</table>\n",
       "<p>14681 rows × 44 columns</p>\n",
       "</div>"
      ],
      "text/plain": [
       "          ID  duration protocol_type   service flag  src_bytes  dst_bytes  \\\n",
       "0       7060         0           tcp      smtp   SF       1129        327   \n",
       "1      22036         0           tcp      http   SF        242       2147   \n",
       "2      19555         0           tcp      http   SF        299       3991   \n",
       "3      11393         0           udp  domain_u   SF         43        133   \n",
       "4      22783         0           tcp    telnet   S0          0          0   \n",
       "...      ...       ...           ...       ...  ...        ...        ...   \n",
       "14676   8562         0           tcp      smtp   SF       3873        337   \n",
       "14677  11680         0           tcp      smtp   SF        767        335   \n",
       "14678   1091         0           tcp      http   SF        162      19994   \n",
       "14679   2992         0           udp  domain_u   SF         44         80   \n",
       "14680  22066         3           tcp      smtp   SF        705        329   \n",
       "\n",
       "       land  wrong_fragment  urgent  ...  dst_host_same_srv_rate  \\\n",
       "0         0               0       0  ...                    1.00   \n",
       "1         0               0       0  ...                    1.00   \n",
       "2         0               0       0  ...                    1.00   \n",
       "3         0               0       0  ...                    1.00   \n",
       "4         0               0       0  ...                    0.14   \n",
       "...     ...             ...     ...  ...                     ...   \n",
       "14676     0               0       0  ...                    0.83   \n",
       "14677     0               0       0  ...                    0.50   \n",
       "14678     0               0       0  ...                    1.00   \n",
       "14679     0               0       0  ...                    1.00   \n",
       "14680     0               0       0  ...                    0.72   \n",
       "\n",
       "       dst_host_diff_srv_rate  dst_host_same_src_port_rate  \\\n",
       "0                        0.00                         0.14   \n",
       "1                        0.00                         0.00   \n",
       "2                        0.00                         0.00   \n",
       "3                        0.01                         0.00   \n",
       "4                        0.19                         0.05   \n",
       "...                       ...                          ...   \n",
       "14676                    0.03                         0.01   \n",
       "14677                    0.03                         0.00   \n",
       "14678                    0.00                         0.07   \n",
       "14679                    0.01                         0.00   \n",
       "14680                    0.06                         0.01   \n",
       "\n",
       "       dst_host_srv_diff_host_rate  dst_host_serror_rate  \\\n",
       "0                             0.02                  0.00   \n",
       "1                             0.00                  0.00   \n",
       "2                             0.00                  0.00   \n",
       "3                             0.00                  0.00   \n",
       "4                             0.00                  0.10   \n",
       "...                            ...                   ...   \n",
       "14676                         0.01                  0.00   \n",
       "14677                         0.00                  0.00   \n",
       "14678                         0.04                  0.07   \n",
       "14679                         0.00                  0.00   \n",
       "14680                         0.01                  0.00   \n",
       "\n",
       "       dst_host_srv_serror_rate  dst_host_rerror_rate  \\\n",
       "0                          0.04                   0.0   \n",
       "1                          0.00                   0.0   \n",
       "2                          0.00                   0.0   \n",
       "3                          0.00                   0.0   \n",
       "4                          0.67                   0.0   \n",
       "...                         ...                   ...   \n",
       "14676                      0.00                   0.0   \n",
       "14677                      0.00                   0.0   \n",
       "14678                      0.00                   0.0   \n",
       "14679                      0.00                   0.0   \n",
       "14680                      0.00                   0.0   \n",
       "\n",
       "       dst_host_srv_rerror_rate  level  Class  \n",
       "0                          0.01     21      0  \n",
       "1                          0.00     21      0  \n",
       "2                          0.00     21      0  \n",
       "3                          0.00     21      0  \n",
       "4                          0.00      4      0  \n",
       "...                         ...    ...    ...  \n",
       "14676                      0.00     21      0  \n",
       "14677                      0.00     21      0  \n",
       "14678                      0.00     21      0  \n",
       "14679                      0.00     20      0  \n",
       "14680                      0.00     21      0  \n",
       "\n",
       "[14681 rows x 44 columns]"
      ]
     },
     "execution_count": 2,
     "metadata": {},
     "output_type": "execute_result"
    }
   ],
   "source": [
    "data = pd.read_csv('train_task.csv')\n",
    "data"
   ]
  },
  {
   "cell_type": "code",
   "execution_count": 3,
   "id": "6e423dd9-98c3-4528-a932-1f4b7da9b88f",
   "metadata": {
    "tags": []
   },
   "outputs": [
    {
     "data": {
      "text/plain": [
       "(14681, 44)"
      ]
     },
     "execution_count": 3,
     "metadata": {},
     "output_type": "execute_result"
    }
   ],
   "source": [
    "data.shape"
   ]
  },
  {
   "cell_type": "code",
   "execution_count": 4,
   "id": "3aeb20b1-8c49-4028-86bb-85cee9a55f4d",
   "metadata": {
    "tags": []
   },
   "outputs": [
    {
     "name": "stdout",
     "output_type": "stream",
     "text": [
      "<class 'pandas.core.frame.DataFrame'>\n",
      "RangeIndex: 14681 entries, 0 to 14680\n",
      "Data columns (total 44 columns):\n",
      " #   Column                       Non-Null Count  Dtype  \n",
      "---  ------                       --------------  -----  \n",
      " 0   ID                           14681 non-null  int64  \n",
      " 1   duration                     14681 non-null  int64  \n",
      " 2   protocol_type                14681 non-null  object \n",
      " 3   service                      14681 non-null  object \n",
      " 4   flag                         14681 non-null  object \n",
      " 5   src_bytes                    14681 non-null  int64  \n",
      " 6   dst_bytes                    14681 non-null  int64  \n",
      " 7   land                         14681 non-null  int64  \n",
      " 8   wrong_fragment               14681 non-null  int64  \n",
      " 9   urgent                       14681 non-null  int64  \n",
      " 10  hot                          14681 non-null  int64  \n",
      " 11  num_failed_logins            14681 non-null  int64  \n",
      " 12  logged_in                    14681 non-null  int64  \n",
      " 13  num_compromised              14681 non-null  int64  \n",
      " 14  root_shell                   14681 non-null  int64  \n",
      " 15  su_attempted                 14681 non-null  int64  \n",
      " 16  num_root                     14681 non-null  int64  \n",
      " 17  num_file_creations           14681 non-null  int64  \n",
      " 18  num_shells                   14681 non-null  int64  \n",
      " 19  num_access_files             14681 non-null  int64  \n",
      " 20  num_outbound_cmds            14681 non-null  int64  \n",
      " 21  is_host_login                14681 non-null  int64  \n",
      " 22  is_guest_login               14681 non-null  int64  \n",
      " 23  count                        14681 non-null  int64  \n",
      " 24  srv_count                    14681 non-null  int64  \n",
      " 25  serror_rate                  14681 non-null  float64\n",
      " 26  srv_serror_rate              14681 non-null  float64\n",
      " 27  rerror_rate                  14681 non-null  float64\n",
      " 28  srv_rerror_rate              14681 non-null  float64\n",
      " 29  same_srv_rate                14681 non-null  float64\n",
      " 30  diff_srv_rate                14681 non-null  float64\n",
      " 31  srv_diff_host_rate           14681 non-null  float64\n",
      " 32  dst_host_count               14681 non-null  int64  \n",
      " 33  dst_host_srv_count           14681 non-null  int64  \n",
      " 34  dst_host_same_srv_rate       14681 non-null  float64\n",
      " 35  dst_host_diff_srv_rate       14681 non-null  float64\n",
      " 36  dst_host_same_src_port_rate  14681 non-null  float64\n",
      " 37  dst_host_srv_diff_host_rate  14681 non-null  float64\n",
      " 38  dst_host_serror_rate         14681 non-null  float64\n",
      " 39  dst_host_srv_serror_rate     14681 non-null  float64\n",
      " 40  dst_host_rerror_rate         14681 non-null  float64\n",
      " 41  dst_host_srv_rerror_rate     14681 non-null  float64\n",
      " 42  level                        14681 non-null  int64  \n",
      " 43  Class                        14681 non-null  int64  \n",
      "dtypes: float64(15), int64(26), object(3)\n",
      "memory usage: 4.9+ MB\n"
     ]
    }
   ],
   "source": [
    "data.info()"
   ]
  },
  {
   "cell_type": "code",
   "execution_count": 5,
   "id": "4e2c323b-256a-4777-bea7-52b3cc4cdbd3",
   "metadata": {
    "tags": []
   },
   "outputs": [
    {
     "data": {
      "text/plain": [
       "Index(['ID', 'duration', 'protocol_type', 'service', 'flag', 'src_bytes',\n",
       "       'dst_bytes', 'land', 'wrong_fragment', 'urgent', 'hot',\n",
       "       'num_failed_logins', 'logged_in', 'num_compromised', 'root_shell',\n",
       "       'su_attempted', 'num_root', 'num_file_creations', 'num_shells',\n",
       "       'num_access_files', 'num_outbound_cmds', 'is_host_login',\n",
       "       'is_guest_login', 'count', 'srv_count', 'serror_rate',\n",
       "       'srv_serror_rate', 'rerror_rate', 'srv_rerror_rate', 'same_srv_rate',\n",
       "       'diff_srv_rate', 'srv_diff_host_rate', 'dst_host_count',\n",
       "       'dst_host_srv_count', 'dst_host_same_srv_rate',\n",
       "       'dst_host_diff_srv_rate', 'dst_host_same_src_port_rate',\n",
       "       'dst_host_srv_diff_host_rate', 'dst_host_serror_rate',\n",
       "       'dst_host_srv_serror_rate', 'dst_host_rerror_rate',\n",
       "       'dst_host_srv_rerror_rate', 'level', 'Class'],\n",
       "      dtype='object')"
      ]
     },
     "execution_count": 5,
     "metadata": {},
     "output_type": "execute_result"
    }
   ],
   "source": [
    "data.columns"
   ]
  },
  {
   "cell_type": "markdown",
   "id": "72652b83-5b4c-4169-83b9-8238e1a8bab8",
   "metadata": {},
   "source": [
    "## EDA"
   ]
  },
  {
   "cell_type": "code",
   "execution_count": 6,
   "id": "400e29ea-bed5-443f-954e-4da224095015",
   "metadata": {
    "tags": []
   },
   "outputs": [
    {
     "name": "stdout",
     "output_type": "stream",
     "text": [
      "Unique values in ID column: [ 7060 22036 19555 ...  1091  2992 22066]\n",
      "Unique values in duration column: [    0  9093     2     8    14   871     1     5     4 20252  4852    28\n",
      "    36    29  5410     3     9    31    15    32    10  8621    26 12039\n",
      "  3487    12  5066    27   159  1051 40025   638  2580  9195   315  9015\n",
      "     6    40 42260 11014    11  5831 12417  6531 31905  2532  7247  8477\n",
      "    25  1228  1464   261 12160  2712   398 17105  6141  9002    69  4816\n",
      "  5044 37847  5057  4263   590    18  2814   432   149 13535  8035  8337\n",
      "    16  4576 26070    23  3995 17399 16885 22821   475  5925 10835 13918\n",
      "    21  2620  1730  9505 26848   310  4309   542  6522  4115    58  5080\n",
      "  3949 12041   107   129  7025   121   282 14608 16872   192    20 12044\n",
      "  8655  4764  2349    22   142   151 16553   771 14380    60   815 40806\n",
      " 13417     7  5849    13 16533 15122   756   905  1721 17944  1398  8217\n",
      " 39910    46 13430 15435  1208 10629  2639  2775  8649  4610  5042  1985\n",
      "  1200 26525  1530  3209  2009    38    42   161  1049   887  4021 39438\n",
      "  9235 26768 38426 10103 41254    59 14101  3584   169 17025   694  6192\n",
      "   826  5658   297  4965   232 21967  4134 13967    57  9114 25950  8486\n",
      "  5055  3795    17    30  6214  9515  6143  2355   589   119 13564 17419\n",
      "   465 39313   730  2713  8397   255  4530    19 35682 25641 17998 26983\n",
      "  3106  4298 10706  8220  7787  7580 17903 19025  3764 19759 13958  2708\n",
      " 12123 12833  5051  1100   918    33 16965   421  5775 13805  5753  9431\n",
      " 31421  3296  5290  2630   279 13335  2333  2230  9535  2589  2289  3143\n",
      "  2584 30057  1700  2474   710 13288 12278  5062  1130 21701 21927 37688\n",
      " 11338  9801 37498 11457 21846 40295  6565 27720 12892    24 18418 11854\n",
      " 15624   265  2401 11565  3469 12085 13428   274  8610  3447  2650   191\n",
      "  4329 13663 12202 10340  3924 12013  4834  2115   507 36280   263   190\n",
      "   116 12743 41476   171    35 10946  1609 13488  6707 42862   708  6616\n",
      " 31849  4675 17365   409  1896 16513 13998  2705   357 41561 13368 27421\n",
      " 10059  3047  4345  5749  4400  2641 38404 31729 26588  2217  2910  5607\n",
      "  4420   276  7631 11371   101   272 42021  1235  9645  8952   450  4814\n",
      "    63   235 30438  3977  2475  9455 10120 13308  3690  8197  2450  1045\n",
      "  8257   584 39507 10326  4468  6917  3030  6381  5036   179   727 11431\n",
      "  9033  4080  4224  2670  6071   378  8556  3083    45 12705  5682  2550\n",
      " 14360   461   891   430 37912  2638   842    53   140 12993  8625  4794\n",
      "  2530 41285  9257    81 36653   853  9100  1185  6064   275   251  1313\n",
      " 10656   854   829  2269   786  3301  2586 10249    56  8122  2540   583\n",
      "  7976  2845  9219  2736   322    88   136  5470    92   682  9725  1900\n",
      " 17038  1979 21223    66  9658  6372  4374  1774   222  4931 17233   252\n",
      "    50  4961 23120    89 40403   550   804 10395 14517  7755 36131  1574\n",
      "   778 41541  4685  2420   362   938  1125  5915   575  6552  9741   284\n",
      "  8017 11460   479   407 42636  1540 31118  9592 10455 37749 13501  7412\n",
      "  7999  2130 12774   571  3779 41218  7158   318   397 31301   423  4229\n",
      "  1864  6349  6163  2015   914 21243 38776 13816  8675]\n",
      "Unique values in protocol_type column: ['tcp' 'udp' 'icmp']\n",
      "Unique values in service column: ['smtp' 'http' 'domain_u' 'telnet' 'ftp_data' 'eco_i' 'private' 'urp_i'\n",
      " 'other' 'red_i' 'ftp' 'auth' 'nnsp' 'Z39_50' 'domain' 'kshell' 'netstat'\n",
      " 'whois' 'systat' 'imap4' 'ecr_i' 'klogin' 'discard' 'daytime' 'ssh' 'IRC'\n",
      " 'uucp_path' 'hostnames' 'iso_tsap' 'name' 'sql_net' 'ctf' 'finger' 'exec'\n",
      " 'sunrpc' 'netbios_ns' 'efs' 'uucp' 'courier' 'csnet_ns' 'pop_3' 'login'\n",
      " 'ldap' 'netbios_ssn' 'ntp_u' 'http_443' 'supdup' 'link' 'X11' 'gopher'\n",
      " 'vmnet' 'mtp' 'netbios_dgm' 'bgp' 'time' 'nntp' 'echo' 'printer' 'shell'\n",
      " 'urh_i' 'remote_job' 'pm_dump' 'rje' 'pop_2' 'tim_i']\n",
      "Unique values in flag column: ['SF' 'S0' 'REJ' 'RSTO' 'S2' 'RSTR' 'S1' 'RSTOS0' 'SH' 'S3' 'OTH']\n",
      "Unique values in src_bytes column: [1129  242  299 ...  765 3873  767]\n",
      "Unique values in dst_bytes column: [  327  2147  3991 ... 25284 13020  7405]\n",
      "Unique values in land column: [0 1]\n",
      "Unique values in wrong_fragment column: [0 3 1]\n",
      "Unique values in urgent column: [0]\n",
      "Unique values in hot column: [ 0  1  2 22 30  5 24 28  4 19 18  3 14  7  6 20 77]\n",
      "Unique values in num_failed_logins column: [0 1 2 4]\n",
      "Unique values in logged_in column: [1 0]\n",
      "Unique values in num_compromised column: [  0   2 457 462   1 371   4 789  83 884   5   6 558   3 217  31 107 110\n",
      "  13 520   7]\n",
      "Unique values in root_shell column: [0 1]\n",
      "Unique values in su_attempted column: [0 2 1]\n",
      "Unique values in num_root column: [  0   2   9 508 512   1 417   6   5   3 867  91 975 629 247   4   7  38\n",
      " 100 121 572]\n",
      "Unique values in num_file_creations column: [ 0 14  1  2 40  5 18 19 29 15 38  8 11 13 17  4]\n",
      "Unique values in num_shells column: [0 1]\n",
      "Unique values in num_access_files column: [0 1 2 3 5 4 8]\n",
      "Unique values in num_outbound_cmds column: [0]\n",
      "Unique values in is_host_login column: [0]\n",
      "Unique values in is_guest_login column: [0 1]\n",
      "Unique values in count column: [  1  18  19  11   7 179   3   6  32   5  12 142 140  10   8 399   4   2\n",
      "   9 162  23  27  33  17  14 201  54  29  30 281 241  15  20  16  36  13\n",
      "  21 195 216  34  69  26 189  74 111 171  24 154 134 276 259 509 185 199\n",
      "  46 130 284 279 251  96  60  35  50 235 286 131 200 220 150 260 223 105\n",
      " 242 227 288 273 511  83 152 123 219 100 226  58 268 225  78 246 106  79\n",
      " 233 280 139 262 118 250  43 482 172 109 272 207 120 102 133  81 159 132\n",
      " 141 114 104 297  51 107 232  62  75 240 138 296 110 310  63  48  37 208\n",
      " 146 256  90 112 116 165 101 202 129 214  52 301 217 261 122 124 115 245\n",
      " 187 255 221  66 173 203 108  31 230 290 265 192  22 239 119 234 461 198\n",
      " 151 222 254 269 149  42  71  25 238 191 257 231 136 285 188  88  80 148\n",
      " 137 176 228 237  45 121  76 127  89 282  72 253 164  85 218 135 291 180\n",
      " 204 163 258 300 205 167 206 270 271  68 298  47 427 145 324 266  73 215\n",
      " 160 125 391  57  65 303 193  70 379  59 113 289 249 510 293 278 317 283\n",
      " 248 212 244  92 299 117 153  87 194 274 252 175 267  86 170  94  53 460\n",
      " 103 467 183 143 196  93 417 224 389  28 313 147 184  98 322 168 209 144\n",
      " 236 361 292 211  99  67 398 243 210 397 277  38 174 368 190 318  41  95\n",
      "  97 158 330 128  77 126  39 355 177 287 421 264  56 213 419 435 181 365\n",
      " 352  84  44 408 477 295  40 401 457 186 393 247 308 376 370  49 459 454\n",
      " 492  82 182 229 452 263 422 197 294 307 329 486 275 434  61 319 333  91\n",
      "  55 384 348 169 157 479 411 493 481 476 468 453 178 390 506 367 161 373\n",
      " 166 155 363 448 353 444 344 471 405  64 375 326 156 360 362 432 304 446\n",
      " 309 316 305 440 406 480 458 312 447 357 507 323 508 335 442 473 472 407\n",
      " 320 347 311 383 351 441 346 496 487 488 494 413 302 402 380 358 328 381\n",
      " 394 451 403 404 336 439 433 445 463 485 437 388 356 315 449]\n",
      "Unique values in srv_count column: [  1  21  52  91   9 179  31   6  32  28   3  16 142   2   8 145   7  23\n",
      "  17  11   4 399  12 162   5  24  29  33  18  34  26  38  14 200  30  60\n",
      "  76  81  44 280 317  10  50  41  20  36 275  27 149  22 269  79 111  25\n",
      "  53 248  35 234  15  47  13 176 286  19 220 511 139  37  51 154 157 482\n",
      "  40 113 199 295 310 301 261 135 105  39 461 151 124  45 187 186 164  85\n",
      " 194 163 122 282 167  48 291 138  68 223 427 240 104  46  69 303 146 123\n",
      " 195 150 379 201 510 251 155 153 302 314  65 249 133 172 460 158  61 193\n",
      " 467 188 156 293 132 183 207  67  93 417 191 159 322 120  89 236 210 184\n",
      " 141 224 212 397 231 318 204  97 202 160 161 116 222  54 355 213 112 435\n",
      " 180 365 277 130  84  43 209 110  42 260  49 401 125 221 169 457  72 178\n",
      " 308 376 152 226 127 198 208 454 235  82 147 182  86 238 148 452 237  66\n",
      " 174 230 134 118 173 306 131 245 225 300 486 244 434 218 272  94 271 114\n",
      " 384 348 109  58  62 171 229  70 288  95 168 177 481  92 203 453 390  75\n",
      " 129 214 274 367 143 185 106 292 115 211 206 267 107 259 136 255 263 219\n",
      " 144 305 252  55 289 121  56 353 137 254 444 189  78 216 247 246 273 257\n",
      " 119 126 233 108 175 321 344 297 391 471  64 325 181 270 197 190 140 117\n",
      " 311 262  59 258 228 375  98 265 509 352 165 304 205 290 243 281 446 279\n",
      " 196 296 440 166 170 268 447  88 363 323 278  77 250 408  63 473 299 239\n",
      " 217 232 313 407 373 319 419 441 264 287 316  73 242  57 192 480 496 487\n",
      " 488 266 284 402 380 358 398 285  90 327 381 451  99  96  87 403 253 459\n",
      " 283 439 445 485 307 315 312 449 468]\n",
      "Unique values in serror_rate column: [0.   0.05 1.   0.2  0.06 0.1  0.5  0.25 0.19 0.08 0.09 0.99 0.81 0.68\n",
      " 0.22 0.04 0.02 0.07 0.01 0.18 0.33 0.14 0.21 0.23 0.61 0.11 0.12 0.17\n",
      " 0.97 0.03 0.98 0.71 0.66 0.95 0.96 0.75 0.9  0.86 0.64 0.13 0.15 0.36\n",
      " 0.94 0.16 0.93 0.73 0.65 0.91 0.7  0.83 0.78 0.55 0.62 0.6  0.77 0.4\n",
      " 0.59 0.92 0.88 0.44 0.67 0.85]\n",
      "Unique values in srv_serror_rate column: [0.   0.02 1.   0.2  0.09 0.33 0.04 0.25 0.05 0.07 0.5  0.9  0.92 0.53\n",
      " 0.14 0.1  0.67 0.22 0.94 0.39 0.11 0.17 0.06 0.95 0.75 0.12 0.65 0.34\n",
      " 0.57 0.03 0.29 0.18 0.08 0.43 0.4  0.8  0.74 0.13 0.89 0.76 0.93 0.91\n",
      " 0.55 0.88 0.86 0.6 ]\n",
      "Unique values in rerror_rate column: [0.   0.06 1.   0.5  0.81 0.9  0.09 0.25 0.32 0.02 0.77 0.79 0.12 0.8\n",
      " 0.88 0.95 0.2  0.71 0.91 0.92 0.33 0.82 0.89 0.14 0.86 0.62 0.85 0.78\n",
      " 0.94 0.75 0.93 0.03 0.96 0.1  0.64 0.29 0.34 0.05 0.04 0.67 0.87 0.36\n",
      " 0.07 0.44 0.99 0.17 0.84 0.27 0.35 0.97 0.74 0.73 0.56 0.01 0.3  0.22\n",
      " 0.83 0.43 0.4  0.23 0.98 0.19 0.08 0.76 0.38]\n",
      "Unique values in srv_rerror_rate column: [0.   0.04 1.   0.06 0.25 0.08 0.33 0.5  0.79 0.07 0.12 0.8  0.2  0.02\n",
      " 0.71 0.05 0.03 0.62 0.17 0.11 0.64 0.1  0.67 0.75 0.14 0.81 0.84 0.74\n",
      " 0.29 0.73 0.56 0.43 0.09 0.83 0.15 0.4 ]\n",
      "Unique values in same_srv_rate column: [1.   0.36 0.25 0.06 0.5  0.2  0.67 0.22 0.04 0.33 0.4  0.99 0.01 0.08\n",
      " 0.   0.02 0.09 0.13 0.11 0.12 0.03 0.05 0.8  0.07 0.23 0.19 0.53 0.65\n",
      " 0.1  0.14 0.24 0.18 0.3  0.98 0.17 0.69 0.32 0.75 0.31 0.15 0.83 0.21\n",
      " 0.29 0.44 0.35 0.52 0.64 0.63 0.16 0.9  0.26 0.6  0.62 0.43 0.27 0.46\n",
      " 0.39 0.41 0.95 0.73 0.91 0.34 0.45 0.48 0.28 0.93 0.37 0.49 0.96 0.58\n",
      " 0.42 0.97 0.47 0.88 0.89 0.38 0.79 0.86 0.92 0.56 0.59 0.57 0.77 0.85\n",
      " 0.82 0.55 0.51 0.72 0.54 0.94]\n",
      "Unique values in diff_srv_rate column: [0.   0.18 0.5  0.41 1.   0.01 0.4  0.67 0.33 0.05 0.07 0.06 0.11 0.13\n",
      " 0.23 0.04 0.36 0.03 0.09 0.08 0.02 0.2  0.39 0.25 0.1  0.17 0.14 0.12\n",
      " 0.99 0.29 0.22 0.51 0.57 0.21 0.6  0.52 0.75 0.54 0.19 0.38 0.15 0.44\n",
      " 0.31 0.32 0.28 0.3  0.7  0.77 0.35 0.37 0.16 0.69 0.83 0.82 0.95 0.46\n",
      " 0.96 0.61 0.59 0.27 0.55 0.8  0.79 0.73 0.43 0.42 0.24 0.26 0.53 0.76\n",
      " 0.97 0.45 0.98]\n",
      "Unique values in srv_diff_host_rate column: [0.   0.14 0.12 0.02 0.33 0.06 0.07 1.   0.25 0.01 0.09 0.24 0.27 0.17\n",
      " 0.1  0.36 0.67 0.08 0.11 0.15 0.5  0.18 0.05 0.4  0.04 0.2  0.43 0.03\n",
      " 0.38 0.21 0.29 0.8  0.31 0.75 0.22 0.6  0.13 0.16 0.19 0.23 0.44 0.35\n",
      " 0.45 0.3  0.62 0.57 0.26 0.88 0.37 0.32 0.55 0.56 0.42 0.47 0.28 0.83]\n",
      "Unique values in dst_host_count column: [  7 255  21  23 245   3 238 183  32 122 202 188 215 162   6  15  51  36\n",
      "  11 176  42  10 104  26  12  89   1  94   5 249  13  29 118  62  35 126\n",
      " 110  33   8 166 154  86 177  17  20 132 105  39  63  54  96   9 151  92\n",
      "  27 246 169 227 109  14 254 143 250 120 146  93  45  57  95 111  16 165\n",
      " 108   4 184  18  88 115 205  50 129 253  97  76 217 252 113  69  48  34\n",
      "  81 220 239 189  84 128 131  37 125 102 173 190  49 223 203 150  61  71\n",
      "   2  56 172 179 144  22  47  85 208 153  24  52 157 214  41  64 142  25\n",
      " 170 182 112 251 197  66  67 127 140 228  53 101  77 145  43 119  30 218\n",
      " 240 230  65 221 229  28 159 116  87 135 247 117 164 224 130  90 124  75\n",
      " 158 160 181 161 213  72  40 243 139 148  79 241 226  31 156 187  60 207\n",
      " 107 133  99 147 200 121 141  58 248 152  83 191 195 210  73 225 222 136\n",
      "  44 100 196 242  46 168 233  70 137 171 237  74  82 235 236 138  19  38\n",
      " 174 123  59 167 192 175 155 186 209  91 106 134 211 103 149 232  80 216\n",
      " 219 244 163 194 180  98 178 198 231  68 204  78 185 212 234 114  55 193\n",
      " 201 206 199   0]\n",
      "Unique values in dst_host_srv_count column: [138 255 254   3  96   9 228 238 183  55 186  20  93 180  30  75  38  31\n",
      " 232 250  83 246 193 169  39 109  58  87   1 123 247  66  54 118   4  19\n",
      " 240  22  63 231  90 213 245 251  14 211   2 129 227 241 190 248 215  86\n",
      " 234  21 243 106  12 192 114 148  71 125  70 142 253 139 229 171 168  59\n",
      " 108  46  26  89  68 104  24 189  82  11  37   8 134 170 208  13   5  17\n",
      "   7  16  35  81  60 196  92 101  47   6 212 144  10  23 159  64  48  91\n",
      "  43  76  27 113  74 237  15 214 124 153 122 242 187 206 239  29 182  61\n",
      " 166  41 244  73  62  56 157  99  51 200 181  42 145  28  85  88  18 147\n",
      " 207 194 197 120 141  44 130  69 220  36  49 216 103 252  45  25 136 132\n",
      "  50 198  79 174 235  57 133 209  94 163 161 230  40 137 154 135 105 117\n",
      " 162 175  52 110 217  78 191 116 156 143 128 249  77  97  72 131 119 225\n",
      " 224  65 219  95 150 107 203 202 199 205 155  34  53 201 149 236 178  32\n",
      " 188 185 173  33 176 121 140 126 115  80 158 233 151 226 111  98 165 152\n",
      " 160 172 167 222  67 127 146  84 184 223 179 177 195 112 218 102 164 100\n",
      " 204 210 221   0]\n",
      "Unique values in dst_host_same_srv_rate column: [1.   0.14 0.04 0.89 0.27 0.99 0.08 0.43 0.72 0.01 0.12 0.33 0.3  0.93\n",
      " 0.96 0.83 0.92 0.94 0.49 0.48 0.97 0.21 0.71 0.2  0.95 0.6  0.91 0.35\n",
      " 0.84 0.26 0.86 0.22 0.07 0.76 0.46 0.29 0.39 0.77 0.45 0.75 0.78 0.54\n",
      " 0.62 0.   0.67 0.98 0.59 0.31 0.11 0.1  0.06 0.28 0.02 0.15 0.68 0.09\n",
      " 0.05 0.03 0.25 0.79 0.36 0.58 0.18 0.32 0.13 0.19 0.38 0.44 0.73 0.74\n",
      " 0.24 0.23 0.65 0.81 0.16 0.88 0.82 0.47 0.64 0.57 0.85 0.69 0.55 0.7\n",
      " 0.37 0.17 0.5  0.51 0.42 0.34 0.9  0.41 0.52 0.61 0.63 0.4  0.8  0.56\n",
      " 0.53 0.87 0.66]\n",
      "Unique values in dst_host_diff_srv_rate column: [0.   0.01 0.19 0.02 0.07 0.53 0.1  0.68 0.03 0.06 0.65 0.09 0.2  0.05\n",
      " 0.11 0.67 0.14 0.04 0.5  0.85 0.17 0.25 0.29 0.28 0.57 1.   0.76 0.7\n",
      " 0.08 0.9  0.94 0.91 0.12 0.45 0.73 0.22 0.49 0.33 0.13 0.87 0.74 0.54\n",
      " 0.59 0.23 0.16 0.84 0.71 0.51 0.6  0.82 0.64 0.26 0.52 0.72 0.24 0.56\n",
      " 0.35 0.95 0.63 0.34 0.61 0.66 0.39 0.18 0.79 0.21 0.15 0.62 0.3  0.47\n",
      " 0.75 0.81 0.4  0.36 0.43 0.83 0.32 0.44 0.69 0.48 0.89 0.98 0.37 0.27\n",
      " 0.55 0.86 0.42 0.99 0.38 0.58 0.46 0.41 0.96 0.77 0.31 0.78 0.97 0.92\n",
      " 0.8  0.88 0.93]\n",
      "Unique values in dst_host_same_src_port_rate column: [0.14 0.   0.05 0.04 0.33 1.   0.01 0.03 0.27 0.43 0.17 0.07 0.02 0.09\n",
      " 0.12 0.1  0.29 0.08 0.67 0.97 0.2  0.49 0.21 0.06 0.35 0.11 0.28 0.39\n",
      " 0.45 0.25 0.78 0.61 0.99 0.31 0.59 0.94 0.76 0.96 0.7  0.36 0.64 0.46\n",
      " 0.19 0.52 0.92 0.5  0.73 0.68 0.18 0.24 0.4  0.65 0.38 0.42 0.98 0.44\n",
      " 0.66 0.85 0.22 0.83 0.32 0.34 0.91 0.95 0.82 0.37 0.41 0.93 0.51 0.8\n",
      " 0.54 0.13 0.88 0.86 0.69 0.87 0.23 0.3  0.57 0.16 0.53 0.89 0.48 0.84\n",
      " 0.71 0.15 0.9  0.58 0.72 0.77 0.62 0.47 0.56 0.74 0.81 0.75 0.63 0.6\n",
      " 0.55 0.26 0.79]\n",
      "Unique values in dst_host_srv_diff_host_rate column: [0.02 0.   0.08 0.05 0.01 0.07 0.04 0.03 0.17 0.29 0.06 0.2  0.33 0.1\n",
      " 0.25 0.18 0.21 0.8  0.15 0.5  0.12 0.26 0.11 0.09 0.19 0.13 0.3  0.51\n",
      " 0.43 0.54 0.16 0.28 1.   0.67 0.14 0.22 0.23 0.6  0.52 0.4  0.55 0.27\n",
      " 0.56 0.31 0.24 0.46 0.38 0.32 0.36 0.86 0.44 0.53 0.75 0.39 0.49 0.48\n",
      " 0.57 0.37 0.34 0.45]\n",
      "Unique values in dst_host_serror_rate column: [0.   0.1  0.62 0.01 0.03 0.02 0.64 0.33 0.25 0.97 0.06 0.57 1.   0.16\n",
      " 0.07 0.35 0.99 0.09 0.13 0.95 0.78 0.44 0.26 0.05 0.66 0.96 0.51 0.65\n",
      " 0.79 0.11 0.81 0.14 0.08 0.93 0.36 0.15 0.91 0.75 0.67 0.76 0.9  0.98\n",
      " 0.12 0.22 0.74 0.23 0.04 0.39 0.5  0.63 0.84 0.58 0.73 0.6  0.85 0.4\n",
      " 0.24 0.94 0.48 0.92 0.8  0.53 0.55 0.69 0.45 0.77 0.54 0.37 0.2  0.21\n",
      " 0.71 0.89 0.27 0.29 0.34 0.88 0.42 0.43 0.19 0.56 0.7  0.82 0.17 0.31\n",
      " 0.41 0.46 0.87 0.52 0.86 0.83 0.3  0.47 0.18 0.32 0.49 0.59 0.68]\n",
      "Unique values in dst_host_srv_serror_rate column: [0.04 0.   0.67 0.01 0.02 0.07 0.08 1.   0.3  0.06 0.05 0.49 0.03 0.12\n",
      " 0.5  0.25 0.1  0.29 0.11 0.78 0.92 0.41 0.93 0.76 0.97 0.79 0.6  0.96\n",
      " 0.82 0.39 0.14 0.75 0.33 0.42 0.73 0.89 0.56 0.85 0.88 0.91 0.94 0.55\n",
      " 0.36 0.09 0.31 0.65 0.18 0.77 0.17 0.72 0.15 0.7  0.61 0.66 0.22 0.16\n",
      " 0.34 0.98 0.71 0.28 0.38 0.24 0.19 0.2  0.9  0.27 0.8  0.69 0.4  0.62\n",
      " 0.13 0.95 0.59 0.74 0.57 0.23 0.81]\n",
      "Unique values in dst_host_rerror_rate column: [0.   0.83 0.01 0.02 0.64 0.97 1.   0.11 0.03 0.05 0.04 0.06 0.22 0.84\n",
      " 0.72 0.07 0.9  0.82 0.71 0.38 0.53 0.43 0.2  0.6  0.74 0.31 0.66 0.16\n",
      " 0.8  0.93 0.67 0.95 0.52 0.62 0.32 0.61 0.87 0.55 0.23 0.88 0.89 0.51\n",
      " 0.19 0.29 0.49 0.69 0.08 0.59 0.85 0.54 0.68 0.4  0.09 0.13 0.46 0.75\n",
      " 0.28 0.7  0.99 0.86 0.12 0.48 0.73 0.91 0.27 0.77 0.47 0.21 0.1  0.33\n",
      " 0.15 0.56 0.63 0.92 0.57 0.37 0.96 0.24 0.5  0.26 0.14 0.76 0.36 0.94\n",
      " 0.34 0.42 0.45 0.78 0.17 0.58 0.3  0.39 0.98 0.81 0.79 0.25 0.35 0.65\n",
      " 0.41 0.18 0.44]\n",
      "Unique values in dst_host_srv_rerror_rate column: [0.01 0.   0.02 0.1  0.03 0.91 1.   0.25 0.97 0.14 0.99 0.06 0.04 0.8\n",
      " 0.07 0.53 0.75 0.11 0.05 0.81 0.5  0.34 0.93 0.94 0.24 0.39 0.45 0.32\n",
      " 0.52 0.65 0.47 0.89 0.33 0.12 0.49 0.86 0.08 0.68 0.85 0.7  0.13 0.59\n",
      " 0.67 0.2  0.84 0.87 0.78 0.55 0.82 0.77 0.48 0.43 0.98 0.95 0.96 0.51\n",
      " 0.41 0.37 0.73 0.79 0.61 0.9  0.71 0.15 0.4  0.35 0.16 0.69 0.56 0.64\n",
      " 0.83 0.62 0.74 0.88 0.58 0.09 0.66 0.57 0.44 0.17 0.31 0.42 0.72 0.27\n",
      " 0.21 0.92 0.3  0.19 0.29 0.6  0.76 0.38 0.28]\n",
      "Unique values in level column: [21  4 17 18 20 14 16 15 19 13  1 11  8 10 12  7  6  9  5  3  2  0]\n",
      "Unique values in Class column: [0 1]\n"
     ]
    }
   ],
   "source": [
    "for column in data.columns:\n",
    "    unique_values = data[column].unique()\n",
    "    print(f\"Unique values in {column} column: {unique_values}\")"
   ]
  },
  {
   "cell_type": "code",
   "execution_count": null,
   "id": "d237f587-e18a-463a-a551-d1b09184d157",
   "metadata": {},
   "outputs": [],
   "source": []
  },
  {
   "cell_type": "code",
   "execution_count": 7,
   "id": "b7faa650-139f-42a6-b179-fd751663558b",
   "metadata": {
    "tags": []
   },
   "outputs": [
    {
     "data": {
      "text/plain": [
       "(14681, 44)"
      ]
     },
     "execution_count": 7,
     "metadata": {},
     "output_type": "execute_result"
    }
   ],
   "source": [
    "data.shape"
   ]
  },
  {
   "cell_type": "code",
   "execution_count": 8,
   "id": "7eb456d0-60ad-4287-906c-90a4e1fa0cde",
   "metadata": {
    "tags": []
   },
   "outputs": [
    {
     "data": {
      "text/plain": [
       "array(['tcp', 'udp', 'icmp'], dtype=object)"
      ]
     },
     "execution_count": 8,
     "metadata": {},
     "output_type": "execute_result"
    }
   ],
   "source": [
    "data['protocol_type'].unique()"
   ]
  },
  {
   "cell_type": "code",
   "execution_count": 9,
   "id": "dc5ade49-bd1c-42de-8c85-9a2e1304d672",
   "metadata": {},
   "outputs": [
    {
     "data": {
      "text/plain": [
       "array(['smtp', 'http', 'domain_u', 'telnet', 'ftp_data', 'eco_i',\n",
       "       'private', 'urp_i', 'other', 'red_i', 'ftp', 'auth', 'nnsp',\n",
       "       'Z39_50', 'domain', 'kshell', 'netstat', 'whois', 'systat',\n",
       "       'imap4', 'ecr_i', 'klogin', 'discard', 'daytime', 'ssh', 'IRC',\n",
       "       'uucp_path', 'hostnames', 'iso_tsap', 'name', 'sql_net', 'ctf',\n",
       "       'finger', 'exec', 'sunrpc', 'netbios_ns', 'efs', 'uucp', 'courier',\n",
       "       'csnet_ns', 'pop_3', 'login', 'ldap', 'netbios_ssn', 'ntp_u',\n",
       "       'http_443', 'supdup', 'link', 'X11', 'gopher', 'vmnet', 'mtp',\n",
       "       'netbios_dgm', 'bgp', 'time', 'nntp', 'echo', 'printer', 'shell',\n",
       "       'urh_i', 'remote_job', 'pm_dump', 'rje', 'pop_2', 'tim_i'],\n",
       "      dtype=object)"
      ]
     },
     "execution_count": 9,
     "metadata": {},
     "output_type": "execute_result"
    }
   ],
   "source": [
    "data['service'].unique()"
   ]
  },
  {
   "cell_type": "code",
   "execution_count": 10,
   "id": "29d203f0-4bdf-4b00-a931-c2ceb9cdc030",
   "metadata": {},
   "outputs": [
    {
     "data": {
      "text/plain": [
       "array(['SF', 'S0', 'REJ', 'RSTO', 'S2', 'RSTR', 'S1', 'RSTOS0', 'SH',\n",
       "       'S3', 'OTH'], dtype=object)"
      ]
     },
     "execution_count": 10,
     "metadata": {},
     "output_type": "execute_result"
    }
   ],
   "source": [
    "data['flag'].unique()"
   ]
  },
  {
   "cell_type": "markdown",
   "id": "6a4575f5-7411-45f5-ad6e-85ae9a8995fa",
   "metadata": {
    "tags": []
   },
   "source": [
    "#### Encoding:"
   ]
  },
  {
   "cell_type": "code",
   "execution_count": 11,
   "id": "ede55cb4-1069-4ff0-8fe4-c05e5f4a657f",
   "metadata": {
    "tags": []
   },
   "outputs": [],
   "source": [
    "service_encoding = {\n",
    "    'smtp': 0, 'http': 1, 'domain_u': 2, 'telnet': 3, 'ftp_data': 4, 'eco_i': 5, 'private': 6, 'urp_i': 7, 'other': 8,\n",
    "    'red_i': 9, 'ftp': 10, 'auth': 11, 'nnsp': 12, 'Z39_50': 13, 'domain': 14, 'kshell': 15, 'netstat': 16, 'whois': 17,\n",
    "    'systat': 18, 'imap4': 19, 'ecr_i': 20, 'klogin': 21, 'discard': 22, 'daytime': 23, 'ssh': 24, 'IRC': 25,\n",
    "    'uucp_path': 26, 'hostnames': 27, 'iso_tsap': 28, 'name': 29, 'sql_net': 30, 'ctf': 31, 'finger': 32, 'exec': 33,\n",
    "    'sunrpc': 34, 'netbios_ns': 35, 'efs': 36, 'uucp': 37, 'courier': 38, 'csnet_ns': 39, 'pop_3': 40, 'login': 41,\n",
    "    'ldap': 42, 'netbios_ssn': 43, 'ntp_u': 44, 'http_443': 45, 'supdup': 46, 'link': 47, 'X11': 48, 'gopher': 49,\n",
    "    'vmnet': 50, 'mtp': 51, 'netbios_dgm': 52, 'bgp': 53, 'time': 54, 'nntp': 55, 'echo': 56, 'printer': 57, 'shell': 58,\n",
    "    'urh_i': 59, 'remote_job': 60, 'pm_dump': 61, 'rje': 62, 'pop_2': 63, 'tim_i': 64\n",
    "}\n",
    "\n",
    "data['service'] = data['service'].map(service_encoding)"
   ]
  },
  {
   "cell_type": "code",
   "execution_count": 12,
   "id": "6632fc12-fb33-47ac-ba79-adfd7bceb192",
   "metadata": {},
   "outputs": [],
   "source": [
    "flag_encoding = {'S3' : 0 , 'SF' : 1, 'S1' : 2, 'SH' : 3, 'RSTR' : 4, 'RSTO' : 5, 'S2' : 6, 'REJ' : 7, 'RSTOS0' : 8, 'S0' : 9, 'OTH' : 10}\n",
    "data['flag'] = data['flag'].map(flag_encoding)"
   ]
  },
  {
   "cell_type": "code",
   "execution_count": 13,
   "id": "459592cc-ead8-4bc8-9033-643e77233d9b",
   "metadata": {},
   "outputs": [],
   "source": [
    "protocol_type_encoding = {'icmp' : 0 , 'udp' : 1, 'tcp' : 2 }\n",
    "\n",
    "data['protocol_type'] = data['protocol_type'].map(protocol_type_encoding)"
   ]
  },
  {
   "cell_type": "code",
   "execution_count": 14,
   "id": "93d42c0c-e3a0-4702-90b6-3913e7622a69",
   "metadata": {},
   "outputs": [
    {
     "name": "stdout",
     "output_type": "stream",
     "text": [
      "\n",
      "ANOVA for Class and ID:\n",
      "ANOVA F-statistic: 1.2315328342957128\n",
      "P-value: 0.2671273246360095\n",
      "No significant difference observed between the means.\n",
      "\n",
      "ANOVA for Class and duration:\n",
      "ANOVA F-statistic: 29.307751224213508\n",
      "P-value: 6.271860385052889e-08\n",
      "The means are significantly different.\n",
      "\n",
      "ANOVA for Class and protocol_type:\n",
      "ANOVA F-statistic: 30.61472777611233\n",
      "P-value: 3.2008139551572846e-08\n",
      "The means are significantly different.\n",
      "\n",
      "ANOVA for Class and service:\n",
      "ANOVA F-statistic: 5840.032549072899\n",
      "P-value: 0.0\n",
      "The means are significantly different.\n",
      "\n",
      "ANOVA for Class and flag:\n",
      "ANOVA F-statistic: 21744.895085640565\n",
      "P-value: 0.0\n",
      "The means are significantly different.\n",
      "\n",
      "ANOVA for Class and src_bytes:\n",
      "ANOVA F-statistic: 1.2798158648421794\n",
      "P-value: 0.25795175656628166\n",
      "No significant difference observed between the means.\n",
      "\n",
      "ANOVA for Class and dst_bytes:\n",
      "ANOVA F-statistic: 0.00047189349660461727\n",
      "P-value: 0.982669124473487\n",
      "No significant difference observed between the means.\n",
      "\n",
      "ANOVA for Class and land:\n",
      "ANOVA F-statistic: 0.0648114417371031\n",
      "P-value: 0.7990503682400079\n",
      "No significant difference observed between the means.\n",
      "\n",
      "ANOVA for Class and wrong_fragment:\n",
      "ANOVA F-statistic: 155.65433257043108\n",
      "P-value: 1.52558208887892e-35\n",
      "The means are significantly different.\n",
      "\n",
      "ANOVA for Class and urgent:\n",
      "ANOVA F-statistic: nan\n",
      "P-value: nan\n",
      "No significant difference observed between the means.\n",
      "\n",
      "ANOVA for Class and hot:\n",
      "ANOVA F-statistic: 2.1798027645857303\n",
      "P-value: 0.13985383195881723\n",
      "No significant difference observed between the means.\n",
      "\n",
      "ANOVA for Class and num_failed_logins:\n",
      "ANOVA F-statistic: 0.27665594297407514\n",
      "P-value: 0.5989094000735067\n",
      "No significant difference observed between the means.\n",
      "\n",
      "ANOVA for Class and logged_in:\n",
      "ANOVA F-statistic: 12068.278733297353\n",
      "P-value: 0.0\n",
      "The means are significantly different.\n",
      "\n",
      "ANOVA for Class and num_compromised:\n",
      "ANOVA F-statistic: 5.569971827847453\n",
      "P-value: 0.018284063020725515\n",
      "The means are significantly different.\n",
      "\n",
      "ANOVA for Class and root_shell:\n",
      "ANOVA F-statistic: 4.7973676789866575\n",
      "P-value: 0.02851892985004159\n",
      "The means are significantly different.\n",
      "\n",
      "ANOVA for Class and su_attempted:\n",
      "ANOVA F-statistic: 9.163091364794719\n",
      "P-value: 0.0024737330084257003\n",
      "The means are significantly different.\n",
      "\n",
      "ANOVA for Class and num_root:\n",
      "ANOVA F-statistic: 6.281868871552997\n",
      "P-value: 0.0122086660931978\n",
      "The means are significantly different.\n",
      "\n",
      "ANOVA for Class and num_file_creations:\n",
      "ANOVA F-statistic: 5.981675939015408\n",
      "P-value: 0.014466920136807922\n",
      "The means are significantly different.\n",
      "\n",
      "ANOVA for Class and num_shells:\n",
      "ANOVA F-statistic: 3.4965129503056147\n",
      "P-value: 0.061518080396961716\n",
      "No significant difference observed between the means.\n",
      "\n",
      "ANOVA for Class and num_access_files:\n",
      "ANOVA F-statistic: 19.918009257735772\n",
      "P-value: 8.143700797954948e-06\n",
      "The means are significantly different.\n",
      "\n",
      "ANOVA for Class and num_outbound_cmds:\n",
      "ANOVA F-statistic: nan\n",
      "P-value: nan\n",
      "No significant difference observed between the means.\n",
      "\n",
      "ANOVA for Class and is_host_login:\n",
      "ANOVA F-statistic: nan\n",
      "P-value: nan\n",
      "No significant difference observed between the means.\n",
      "\n",
      "ANOVA for Class and is_guest_login:\n",
      "ANOVA F-statistic: 18.615323452912538\n",
      "P-value: 1.6097580433747336e-05\n",
      "The means are significantly different.\n",
      "\n",
      "ANOVA for Class and count:\n",
      "ANOVA F-statistic: 7809.9720112280465\n",
      "P-value: 0.0\n",
      "The means are significantly different.\n",
      "\n",
      "ANOVA for Class and srv_count:\n",
      "ANOVA F-statistic: 0.025482632146331938\n",
      "P-value: 0.8731725327232052\n",
      "No significant difference observed between the means.\n",
      "\n",
      "ANOVA for Class and serror_rate:\n",
      "ANOVA F-statistic: 11941.924286900527\n",
      "P-value: 0.0\n",
      "The means are significantly different.\n",
      "\n",
      "ANOVA for Class and srv_serror_rate:\n",
      "ANOVA F-statistic: 11792.196912110985\n",
      "P-value: 0.0\n",
      "The means are significantly different.\n",
      "\n",
      "ANOVA for Class and rerror_rate:\n",
      "ANOVA F-statistic: 1123.8574053823877\n",
      "P-value: 1.7412591744376576e-237\n",
      "The means are significantly different.\n",
      "\n",
      "ANOVA for Class and srv_rerror_rate:\n",
      "ANOVA F-statistic: 1110.6879590379328\n",
      "P-value: 7.955708349174031e-235\n",
      "The means are significantly different.\n",
      "\n",
      "ANOVA for Class and same_srv_rate:\n",
      "ANOVA F-statistic: 20121.60611647635\n",
      "P-value: 0.0\n",
      "The means are significantly different.\n",
      "\n",
      "ANOVA for Class and diff_srv_rate:\n",
      "ANOVA F-statistic: 585.3640870724367\n",
      "P-value: 7.669706526883383e-127\n",
      "The means are significantly different.\n",
      "\n",
      "ANOVA for Class and srv_diff_host_rate:\n",
      "ANOVA F-statistic: 198.9829580965576\n",
      "P-value: 6.838051586433974e-45\n",
      "The means are significantly different.\n",
      "\n",
      "ANOVA for Class and dst_host_count:\n",
      "ANOVA F-statistic: 2107.2468174517435\n",
      "P-value: 0.0\n",
      "The means are significantly different.\n",
      "\n",
      "ANOVA for Class and dst_host_srv_count:\n",
      "ANOVA F-statistic: 14562.779133524067\n",
      "P-value: 0.0\n",
      "The means are significantly different.\n",
      "\n",
      "ANOVA for Class and dst_host_same_srv_rate:\n",
      "ANOVA F-statistic: 13208.281288559048\n",
      "P-value: 0.0\n",
      "The means are significantly different.\n",
      "\n",
      "ANOVA for Class and dst_host_diff_srv_rate:\n",
      "ANOVA F-statistic: 896.8960900307947\n",
      "P-value: 2.498077272989284e-191\n",
      "The means are significantly different.\n",
      "\n",
      "ANOVA for Class and dst_host_same_src_port_rate:\n",
      "ANOVA F-statistic: 113.3144326404453\n",
      "P-value: 2.2976244845520663e-26\n",
      "The means are significantly different.\n",
      "\n",
      "ANOVA for Class and dst_host_srv_diff_host_rate:\n",
      "ANOVA F-statistic: 67.16825524531242\n",
      "P-value: 2.697546108299387e-16\n",
      "The means are significantly different.\n",
      "\n",
      "ANOVA for Class and dst_host_serror_rate:\n",
      "ANOVA F-statistic: 11947.648559305178\n",
      "P-value: 0.0\n",
      "The means are significantly different.\n",
      "\n",
      "ANOVA for Class and dst_host_srv_serror_rate:\n",
      "ANOVA F-statistic: 12158.744866963838\n",
      "P-value: 0.0\n",
      "The means are significantly different.\n",
      "\n",
      "ANOVA for Class and dst_host_rerror_rate:\n",
      "ANOVA F-statistic: 1098.3613744524696\n",
      "P-value: 2.467737797860342e-232\n",
      "The means are significantly different.\n",
      "\n",
      "ANOVA for Class and dst_host_srv_rerror_rate:\n",
      "ANOVA F-statistic: 1119.5350929794288\n",
      "P-value: 1.2989353795427889e-236\n",
      "The means are significantly different.\n",
      "\n",
      "ANOVA for Class and level:\n",
      "ANOVA F-statistic: 2459.5730327999768\n",
      "P-value: 0.0\n",
      "The means are significantly different.\n"
     ]
    }
   ],
   "source": [
    "categorical_variable = 'Class'\n",
    "\n",
    "# Get all numerical variable column names\n",
    "numerical_variables = [col for col in data.columns if col != categorical_variable]\n",
    "\n",
    "# Perform one-way ANOVA \n",
    "alpha = 0.05\n",
    "for num_var in numerical_variables:\n",
    "    groups = data[categorical_variable].unique()\n",
    "    data_groups = [data[data[categorical_variable] == group][num_var] for group in groups]\n",
    "\n",
    "    # Perform one-way ANOVA\n",
    "    statistic, p_value = stats.f_oneway(*data_groups)\n",
    "\n",
    "    # Print the results\n",
    "    print(f\"\\nANOVA for {categorical_variable} and {num_var}:\")\n",
    "    print(\"ANOVA F-statistic:\", statistic)\n",
    "    print(\"P-value:\", p_value)\n",
    "\n",
    "    # Check for significance\n",
    "    if p_value < alpha:\n",
    "        print(\"The means are significantly different.\")\n",
    "    else:\n",
    "        print(\"No significant difference observed between the means.\")\n"
   ]
  },
  {
   "cell_type": "code",
   "execution_count": 15,
   "id": "ea554715-1b4d-4c1c-ba90-38362c52a736",
   "metadata": {},
   "outputs": [],
   "source": [
    "data = data.drop(['ID',\"is_host_login\",\"urgent\",\"num_outbound_cmds\" , \"src_bytes\" , \"dst_bytes\",\"land\",\"hot\",\"num_failed_logins\",\"num_shells\",\"srv_count\"], axis=1)"
   ]
  },
  {
   "cell_type": "code",
   "execution_count": null,
   "id": "6f82632e-4163-4651-97a8-859ea8f3de59",
   "metadata": {},
   "outputs": [],
   "source": []
  },
  {
   "cell_type": "markdown",
   "id": "02ca59c6-402f-4cce-83ec-81e585457e76",
   "metadata": {
    "tags": []
   },
   "source": [
    "#### Handling outliers:"
   ]
  },
  {
   "cell_type": "code",
   "execution_count": 16,
   "id": "d285c0ab-d5a6-46fc-aeaa-da6ba186173b",
   "metadata": {
    "tags": []
   },
   "outputs": [
    {
     "name": "stdout",
     "output_type": "stream",
     "text": [
      "0.0\n",
      "133.20000000000255\n"
     ]
    }
   ],
   "source": [
    "\n",
    "print(data['duration'].quantile(0.10)) \n",
    "print(data['duration'].quantile(0.97)) \n",
    "data['duration'] = np.where(data['duration'] > 31, 0, data['duration'])"
   ]
  },
  {
   "cell_type": "markdown",
   "id": "1e45718f-e765-43b7-be4f-85fca114b6e6",
   "metadata": {
    "tags": []
   },
   "source": [
    "#### Spliting data:"
   ]
  },
  {
   "cell_type": "code",
   "execution_count": 17,
   "id": "6ee85a01-e789-4a79-8f7f-4c056a2a7002",
   "metadata": {
    "tags": []
   },
   "outputs": [],
   "source": [
    "x1 = data.drop(['Class'] , axis = 1).values\n",
    "y1 = data['Class'].values"
   ]
  },
  {
   "cell_type": "code",
   "execution_count": 18,
   "id": "af09f46c-8a7d-4d94-8d9f-ae03e5fb5e37",
   "metadata": {
    "tags": []
   },
   "outputs": [],
   "source": [
    "x1_train , x1_test , y1_train , y1_test = train_test_split(x1,y1 , test_size= 0.2 , random_state=42)"
   ]
  },
  {
   "cell_type": "markdown",
   "id": "24e4eab9-09bb-4da3-9976-2bff011816d1",
   "metadata": {
    "tags": []
   },
   "source": [
    "#### Training and saaving the model:"
   ]
  },
  {
   "cell_type": "code",
   "execution_count": 19,
   "id": "45f044e9-cd7a-436c-a8af-06bceac2b952",
   "metadata": {
    "tags": []
   },
   "outputs": [],
   "source": [
    "# Define the parameter grid to search\n",
    "param_grid = {\n",
    "    'n_estimators': [50, 100, 150],  \n",
    "    'max_depth': [None, 10, 20, 30], \n",
    "    'min_samples_split': [2, 5, 10], \n",
    "    'min_samples_leaf': [1, 2, 4]  \n",
    "}"
   ]
  },
  {
   "cell_type": "code",
   "execution_count": 20,
   "id": "b90b67d7-3041-40b3-81f5-7f0d8eef9170",
   "metadata": {
    "tags": []
   },
   "outputs": [
    {
     "name": "stdout",
     "output_type": "stream",
     "text": [
      "Best Hyperparameters: {'max_depth': 20, 'min_samples_leaf': 1, 'min_samples_split': 2, 'n_estimators': 150}\n",
      "Classification Report:\n",
      "               precision    recall  f1-score   support\n",
      "\n",
      "           0       1.00      1.00      1.00      1741\n",
      "           1       1.00      1.00      1.00      1196\n",
      "\n",
      "    accuracy                           1.00      2937\n",
      "   macro avg       1.00      1.00      1.00      2937\n",
      "weighted avg       1.00      1.00      1.00      2937\n",
      "\n"
     ]
    }
   ],
   "source": [
    "rf_classifier = RandomForestClassifier(random_state=42)\n",
    "\n",
    "# Initialize GridSearchCV\n",
    "grid_search = GridSearchCV(estimator=rf_classifier, param_grid=param_grid, cv=3, scoring='f1_macro', n_jobs=-1)\n",
    "\n",
    "# Fit the model\n",
    "grid_search.fit(x1_train, y1_train)\n",
    "\n",
    "# Get the best hyperparameters\n",
    "best_params = grid_search.best_params_\n",
    "print(\"Best Hyperparameters:\", best_params)\n",
    "\n",
    "# Get the best model\n",
    "best_rf_model = grid_search.best_estimator_\n",
    "\n",
    "# Make predictions on the test set\n",
    "y1_pred = best_rf_model.predict(x1_test)\n",
    "\n",
    "# Evaluate the model\n",
    "classification_rep = classification_report(y1_test, y1_pred)\n",
    "print(\"Classification Report:\\n\", classification_rep)\n"
   ]
  },
  {
   "cell_type": "code",
   "execution_count": 21,
   "id": "46b8c64c-c1ab-4244-b1e6-81725949e978",
   "metadata": {
    "tags": []
   },
   "outputs": [
    {
     "name": "stdout",
     "output_type": "stream",
     "text": [
      "F1 Score: 99.82371018218055\n"
     ]
    }
   ],
   "source": [
    "f1 = f1_score(y1_test, y1_pred, average='macro') * 100\n",
    "print(\"F1 Score:\", f1)"
   ]
  },
  {
   "cell_type": "code",
   "execution_count": 22,
   "id": "7614d7c4-5819-4962-9ad9-96c75d02a677",
   "metadata": {
    "tags": []
   },
   "outputs": [
    {
     "data": {
      "text/plain": [
       "['best_model2.pkl']"
      ]
     },
     "execution_count": 22,
     "metadata": {},
     "output_type": "execute_result"
    }
   ],
   "source": [
    "joblib.dump(best_rf_model, 'best_model2.pkl')"
   ]
  },
  {
   "cell_type": "markdown",
   "id": "e5e18a6f-e560-4fce-a058-97a00b5f3c2a",
   "metadata": {
    "tags": []
   },
   "source": [
    "# Reaading and Cleaning the second dataset"
   ]
  },
  {
   "cell_type": "markdown",
   "id": "1e3c6241-0494-44f0-843a-811e3b36cd98",
   "metadata": {
    "tags": []
   },
   "source": [
    "#### Reading the data:"
   ]
  },
  {
   "cell_type": "code",
   "execution_count": 23,
   "id": "34dd59c2-959c-4efa-aceb-e6620c0d20e3",
   "metadata": {
    "tags": []
   },
   "outputs": [
    {
     "data": {
      "text/html": [
       "<div>\n",
       "<style scoped>\n",
       "    .dataframe tbody tr th:only-of-type {\n",
       "        vertical-align: middle;\n",
       "    }\n",
       "\n",
       "    .dataframe tbody tr th {\n",
       "        vertical-align: top;\n",
       "    }\n",
       "\n",
       "    .dataframe thead th {\n",
       "        text-align: right;\n",
       "    }\n",
       "</style>\n",
       "<table border=\"1\" class=\"dataframe\">\n",
       "  <thead>\n",
       "    <tr style=\"text-align: right;\">\n",
       "      <th></th>\n",
       "      <th>ID</th>\n",
       "      <th>duration</th>\n",
       "      <th>protocol_type</th>\n",
       "      <th>service</th>\n",
       "      <th>flag</th>\n",
       "      <th>src_bytes</th>\n",
       "      <th>dst_bytes</th>\n",
       "      <th>land</th>\n",
       "      <th>wrong_fragment</th>\n",
       "      <th>urgent</th>\n",
       "      <th>...</th>\n",
       "      <th>dst_host_srv_count</th>\n",
       "      <th>dst_host_same_srv_rate</th>\n",
       "      <th>dst_host_diff_srv_rate</th>\n",
       "      <th>dst_host_same_src_port_rate</th>\n",
       "      <th>dst_host_srv_diff_host_rate</th>\n",
       "      <th>dst_host_serror_rate</th>\n",
       "      <th>dst_host_srv_serror_rate</th>\n",
       "      <th>dst_host_rerror_rate</th>\n",
       "      <th>dst_host_srv_rerror_rate</th>\n",
       "      <th>level</th>\n",
       "    </tr>\n",
       "  </thead>\n",
       "  <tbody>\n",
       "    <tr>\n",
       "      <th>0</th>\n",
       "      <td>15831</td>\n",
       "      <td>0</td>\n",
       "      <td>tcp</td>\n",
       "      <td>http</td>\n",
       "      <td>REJ</td>\n",
       "      <td>0</td>\n",
       "      <td>0</td>\n",
       "      <td>0</td>\n",
       "      <td>0</td>\n",
       "      <td>0</td>\n",
       "      <td>...</td>\n",
       "      <td>236</td>\n",
       "      <td>1.00</td>\n",
       "      <td>0.00</td>\n",
       "      <td>0.09</td>\n",
       "      <td>0.01</td>\n",
       "      <td>0.0</td>\n",
       "      <td>0.0</td>\n",
       "      <td>1.0</td>\n",
       "      <td>0.07</td>\n",
       "      <td>21</td>\n",
       "    </tr>\n",
       "    <tr>\n",
       "      <th>1</th>\n",
       "      <td>12617</td>\n",
       "      <td>0</td>\n",
       "      <td>tcp</td>\n",
       "      <td>ftp_data</td>\n",
       "      <td>SF</td>\n",
       "      <td>151</td>\n",
       "      <td>0</td>\n",
       "      <td>0</td>\n",
       "      <td>0</td>\n",
       "      <td>0</td>\n",
       "      <td>...</td>\n",
       "      <td>37</td>\n",
       "      <td>0.33</td>\n",
       "      <td>0.07</td>\n",
       "      <td>0.33</td>\n",
       "      <td>0.05</td>\n",
       "      <td>0.0</td>\n",
       "      <td>0.0</td>\n",
       "      <td>0.0</td>\n",
       "      <td>0.00</td>\n",
       "      <td>20</td>\n",
       "    </tr>\n",
       "    <tr>\n",
       "      <th>2</th>\n",
       "      <td>16328</td>\n",
       "      <td>0</td>\n",
       "      <td>udp</td>\n",
       "      <td>domain_u</td>\n",
       "      <td>SF</td>\n",
       "      <td>44</td>\n",
       "      <td>139</td>\n",
       "      <td>0</td>\n",
       "      <td>0</td>\n",
       "      <td>0</td>\n",
       "      <td>...</td>\n",
       "      <td>255</td>\n",
       "      <td>1.00</td>\n",
       "      <td>0.00</td>\n",
       "      <td>0.00</td>\n",
       "      <td>0.00</td>\n",
       "      <td>0.0</td>\n",
       "      <td>0.0</td>\n",
       "      <td>0.0</td>\n",
       "      <td>0.00</td>\n",
       "      <td>21</td>\n",
       "    </tr>\n",
       "    <tr>\n",
       "      <th>3</th>\n",
       "      <td>11403</td>\n",
       "      <td>0</td>\n",
       "      <td>tcp</td>\n",
       "      <td>http</td>\n",
       "      <td>SF</td>\n",
       "      <td>251</td>\n",
       "      <td>4014</td>\n",
       "      <td>0</td>\n",
       "      <td>0</td>\n",
       "      <td>0</td>\n",
       "      <td>...</td>\n",
       "      <td>255</td>\n",
       "      <td>1.00</td>\n",
       "      <td>0.00</td>\n",
       "      <td>0.00</td>\n",
       "      <td>0.01</td>\n",
       "      <td>0.0</td>\n",
       "      <td>0.0</td>\n",
       "      <td>0.0</td>\n",
       "      <td>0.00</td>\n",
       "      <td>21</td>\n",
       "    </tr>\n",
       "    <tr>\n",
       "      <th>4</th>\n",
       "      <td>11891</td>\n",
       "      <td>0</td>\n",
       "      <td>tcp</td>\n",
       "      <td>smtp</td>\n",
       "      <td>SF</td>\n",
       "      <td>1317</td>\n",
       "      <td>367</td>\n",
       "      <td>0</td>\n",
       "      <td>0</td>\n",
       "      <td>0</td>\n",
       "      <td>...</td>\n",
       "      <td>166</td>\n",
       "      <td>0.80</td>\n",
       "      <td>0.40</td>\n",
       "      <td>0.20</td>\n",
       "      <td>0.02</td>\n",
       "      <td>0.0</td>\n",
       "      <td>0.0</td>\n",
       "      <td>0.0</td>\n",
       "      <td>0.00</td>\n",
       "      <td>21</td>\n",
       "    </tr>\n",
       "    <tr>\n",
       "      <th>...</th>\n",
       "      <td>...</td>\n",
       "      <td>...</td>\n",
       "      <td>...</td>\n",
       "      <td>...</td>\n",
       "      <td>...</td>\n",
       "      <td>...</td>\n",
       "      <td>...</td>\n",
       "      <td>...</td>\n",
       "      <td>...</td>\n",
       "      <td>...</td>\n",
       "      <td>...</td>\n",
       "      <td>...</td>\n",
       "      <td>...</td>\n",
       "      <td>...</td>\n",
       "      <td>...</td>\n",
       "      <td>...</td>\n",
       "      <td>...</td>\n",
       "      <td>...</td>\n",
       "      <td>...</td>\n",
       "      <td>...</td>\n",
       "      <td>...</td>\n",
       "    </tr>\n",
       "    <tr>\n",
       "      <th>5746</th>\n",
       "      <td>7222</td>\n",
       "      <td>0</td>\n",
       "      <td>tcp</td>\n",
       "      <td>private</td>\n",
       "      <td>S0</td>\n",
       "      <td>0</td>\n",
       "      <td>0</td>\n",
       "      <td>0</td>\n",
       "      <td>0</td>\n",
       "      <td>0</td>\n",
       "      <td>...</td>\n",
       "      <td>22</td>\n",
       "      <td>0.09</td>\n",
       "      <td>0.05</td>\n",
       "      <td>0.00</td>\n",
       "      <td>0.00</td>\n",
       "      <td>1.0</td>\n",
       "      <td>1.0</td>\n",
       "      <td>0.0</td>\n",
       "      <td>0.00</td>\n",
       "      <td>20</td>\n",
       "    </tr>\n",
       "    <tr>\n",
       "      <th>5747</th>\n",
       "      <td>9085</td>\n",
       "      <td>0</td>\n",
       "      <td>tcp</td>\n",
       "      <td>smtp</td>\n",
       "      <td>SF</td>\n",
       "      <td>2315</td>\n",
       "      <td>328</td>\n",
       "      <td>0</td>\n",
       "      <td>0</td>\n",
       "      <td>0</td>\n",
       "      <td>...</td>\n",
       "      <td>121</td>\n",
       "      <td>0.43</td>\n",
       "      <td>0.02</td>\n",
       "      <td>0.01</td>\n",
       "      <td>0.02</td>\n",
       "      <td>0.0</td>\n",
       "      <td>0.0</td>\n",
       "      <td>0.0</td>\n",
       "      <td>0.00</td>\n",
       "      <td>21</td>\n",
       "    </tr>\n",
       "    <tr>\n",
       "      <th>5748</th>\n",
       "      <td>22575</td>\n",
       "      <td>0</td>\n",
       "      <td>tcp</td>\n",
       "      <td>http</td>\n",
       "      <td>S0</td>\n",
       "      <td>0</td>\n",
       "      <td>0</td>\n",
       "      <td>0</td>\n",
       "      <td>0</td>\n",
       "      <td>0</td>\n",
       "      <td>...</td>\n",
       "      <td>25</td>\n",
       "      <td>0.10</td>\n",
       "      <td>0.05</td>\n",
       "      <td>0.00</td>\n",
       "      <td>0.00</td>\n",
       "      <td>1.0</td>\n",
       "      <td>1.0</td>\n",
       "      <td>0.0</td>\n",
       "      <td>0.00</td>\n",
       "      <td>19</td>\n",
       "    </tr>\n",
       "    <tr>\n",
       "      <th>5749</th>\n",
       "      <td>12005</td>\n",
       "      <td>0</td>\n",
       "      <td>tcp</td>\n",
       "      <td>http</td>\n",
       "      <td>SF</td>\n",
       "      <td>191</td>\n",
       "      <td>24802</td>\n",
       "      <td>0</td>\n",
       "      <td>0</td>\n",
       "      <td>0</td>\n",
       "      <td>...</td>\n",
       "      <td>255</td>\n",
       "      <td>1.00</td>\n",
       "      <td>0.00</td>\n",
       "      <td>0.00</td>\n",
       "      <td>0.00</td>\n",
       "      <td>0.0</td>\n",
       "      <td>0.0</td>\n",
       "      <td>0.0</td>\n",
       "      <td>0.00</td>\n",
       "      <td>21</td>\n",
       "    </tr>\n",
       "    <tr>\n",
       "      <th>5750</th>\n",
       "      <td>17921</td>\n",
       "      <td>0</td>\n",
       "      <td>tcp</td>\n",
       "      <td>supdup</td>\n",
       "      <td>S0</td>\n",
       "      <td>0</td>\n",
       "      <td>0</td>\n",
       "      <td>0</td>\n",
       "      <td>0</td>\n",
       "      <td>0</td>\n",
       "      <td>...</td>\n",
       "      <td>15</td>\n",
       "      <td>0.06</td>\n",
       "      <td>0.08</td>\n",
       "      <td>0.00</td>\n",
       "      <td>0.00</td>\n",
       "      <td>1.0</td>\n",
       "      <td>1.0</td>\n",
       "      <td>0.0</td>\n",
       "      <td>0.00</td>\n",
       "      <td>18</td>\n",
       "    </tr>\n",
       "  </tbody>\n",
       "</table>\n",
       "<p>5751 rows × 43 columns</p>\n",
       "</div>"
      ],
      "text/plain": [
       "         ID  duration protocol_type   service flag  src_bytes  dst_bytes  \\\n",
       "0     15831         0           tcp      http  REJ          0          0   \n",
       "1     12617         0           tcp  ftp_data   SF        151          0   \n",
       "2     16328         0           udp  domain_u   SF         44        139   \n",
       "3     11403         0           tcp      http   SF        251       4014   \n",
       "4     11891         0           tcp      smtp   SF       1317        367   \n",
       "...     ...       ...           ...       ...  ...        ...        ...   \n",
       "5746   7222         0           tcp   private   S0          0          0   \n",
       "5747   9085         0           tcp      smtp   SF       2315        328   \n",
       "5748  22575         0           tcp      http   S0          0          0   \n",
       "5749  12005         0           tcp      http   SF        191      24802   \n",
       "5750  17921         0           tcp    supdup   S0          0          0   \n",
       "\n",
       "      land  wrong_fragment  urgent  ...  dst_host_srv_count  \\\n",
       "0        0               0       0  ...                 236   \n",
       "1        0               0       0  ...                  37   \n",
       "2        0               0       0  ...                 255   \n",
       "3        0               0       0  ...                 255   \n",
       "4        0               0       0  ...                 166   \n",
       "...    ...             ...     ...  ...                 ...   \n",
       "5746     0               0       0  ...                  22   \n",
       "5747     0               0       0  ...                 121   \n",
       "5748     0               0       0  ...                  25   \n",
       "5749     0               0       0  ...                 255   \n",
       "5750     0               0       0  ...                  15   \n",
       "\n",
       "      dst_host_same_srv_rate  dst_host_diff_srv_rate  \\\n",
       "0                       1.00                    0.00   \n",
       "1                       0.33                    0.07   \n",
       "2                       1.00                    0.00   \n",
       "3                       1.00                    0.00   \n",
       "4                       0.80                    0.40   \n",
       "...                      ...                     ...   \n",
       "5746                    0.09                    0.05   \n",
       "5747                    0.43                    0.02   \n",
       "5748                    0.10                    0.05   \n",
       "5749                    1.00                    0.00   \n",
       "5750                    0.06                    0.08   \n",
       "\n",
       "      dst_host_same_src_port_rate  dst_host_srv_diff_host_rate  \\\n",
       "0                            0.09                         0.01   \n",
       "1                            0.33                         0.05   \n",
       "2                            0.00                         0.00   \n",
       "3                            0.00                         0.01   \n",
       "4                            0.20                         0.02   \n",
       "...                           ...                          ...   \n",
       "5746                         0.00                         0.00   \n",
       "5747                         0.01                         0.02   \n",
       "5748                         0.00                         0.00   \n",
       "5749                         0.00                         0.00   \n",
       "5750                         0.00                         0.00   \n",
       "\n",
       "      dst_host_serror_rate  dst_host_srv_serror_rate  dst_host_rerror_rate  \\\n",
       "0                      0.0                       0.0                   1.0   \n",
       "1                      0.0                       0.0                   0.0   \n",
       "2                      0.0                       0.0                   0.0   \n",
       "3                      0.0                       0.0                   0.0   \n",
       "4                      0.0                       0.0                   0.0   \n",
       "...                    ...                       ...                   ...   \n",
       "5746                   1.0                       1.0                   0.0   \n",
       "5747                   0.0                       0.0                   0.0   \n",
       "5748                   1.0                       1.0                   0.0   \n",
       "5749                   0.0                       0.0                   0.0   \n",
       "5750                   1.0                       1.0                   0.0   \n",
       "\n",
       "      dst_host_srv_rerror_rate  level  \n",
       "0                         0.07     21  \n",
       "1                         0.00     20  \n",
       "2                         0.00     21  \n",
       "3                         0.00     21  \n",
       "4                         0.00     21  \n",
       "...                        ...    ...  \n",
       "5746                      0.00     20  \n",
       "5747                      0.00     21  \n",
       "5748                      0.00     19  \n",
       "5749                      0.00     21  \n",
       "5750                      0.00     18  \n",
       "\n",
       "[5751 rows x 43 columns]"
      ]
     },
     "execution_count": 23,
     "metadata": {},
     "output_type": "execute_result"
    }
   ],
   "source": [
    "df = pd.read_csv(\"test_task.csv\")\n",
    "df"
   ]
  },
  {
   "cell_type": "code",
   "execution_count": 24,
   "id": "f0dd5323-3b7f-4e73-b8b0-2c7fa00e67af",
   "metadata": {
    "tags": []
   },
   "outputs": [],
   "source": [
    "df = df.drop(['ID',\"is_host_login\",\"urgent\",\"num_outbound_cmds\" , \"src_bytes\" , \"dst_bytes\",\"land\",\"hot\",\"num_failed_logins\",\"num_shells\",\"srv_count\"], axis=1)"
   ]
  },
  {
   "cell_type": "code",
   "execution_count": 25,
   "id": "6f8d70f0-090a-4f87-bd63-295ca58756b6",
   "metadata": {
    "tags": []
   },
   "outputs": [
    {
     "name": "stdout",
     "output_type": "stream",
     "text": [
      "<class 'pandas.core.frame.DataFrame'>\n",
      "RangeIndex: 5751 entries, 0 to 5750\n",
      "Data columns (total 32 columns):\n",
      " #   Column                       Non-Null Count  Dtype  \n",
      "---  ------                       --------------  -----  \n",
      " 0   duration                     5751 non-null   int64  \n",
      " 1   protocol_type                5751 non-null   object \n",
      " 2   service                      5751 non-null   object \n",
      " 3   flag                         5751 non-null   object \n",
      " 4   wrong_fragment               5751 non-null   int64  \n",
      " 5   logged_in                    5751 non-null   int64  \n",
      " 6   num_compromised              5751 non-null   int64  \n",
      " 7   root_shell                   5751 non-null   int64  \n",
      " 8   su_attempted                 5751 non-null   int64  \n",
      " 9   num_root                     5751 non-null   int64  \n",
      " 10  num_file_creations           5751 non-null   int64  \n",
      " 11  num_access_files             5751 non-null   int64  \n",
      " 12  is_guest_login               5751 non-null   int64  \n",
      " 13  count                        5751 non-null   int64  \n",
      " 14  serror_rate                  5751 non-null   float64\n",
      " 15  srv_serror_rate              5751 non-null   float64\n",
      " 16  rerror_rate                  5751 non-null   float64\n",
      " 17  srv_rerror_rate              5751 non-null   float64\n",
      " 18  same_srv_rate                5751 non-null   float64\n",
      " 19  diff_srv_rate                5751 non-null   float64\n",
      " 20  srv_diff_host_rate           5751 non-null   float64\n",
      " 21  dst_host_count               5751 non-null   int64  \n",
      " 22  dst_host_srv_count           5751 non-null   int64  \n",
      " 23  dst_host_same_srv_rate       5751 non-null   float64\n",
      " 24  dst_host_diff_srv_rate       5751 non-null   float64\n",
      " 25  dst_host_same_src_port_rate  5751 non-null   float64\n",
      " 26  dst_host_srv_diff_host_rate  5751 non-null   float64\n",
      " 27  dst_host_serror_rate         5751 non-null   float64\n",
      " 28  dst_host_srv_serror_rate     5751 non-null   float64\n",
      " 29  dst_host_rerror_rate         5751 non-null   float64\n",
      " 30  dst_host_srv_rerror_rate     5751 non-null   float64\n",
      " 31  level                        5751 non-null   int64  \n",
      "dtypes: float64(15), int64(14), object(3)\n",
      "memory usage: 1.4+ MB\n"
     ]
    }
   ],
   "source": [
    "df.info()"
   ]
  },
  {
   "cell_type": "code",
   "execution_count": 26,
   "id": "37da1b15-449e-4a87-b19c-665375163c99",
   "metadata": {
    "tags": []
   },
   "outputs": [
    {
     "data": {
      "text/plain": [
       "Index(['duration', 'protocol_type', 'service', 'flag', 'wrong_fragment',\n",
       "       'logged_in', 'num_compromised', 'root_shell', 'su_attempted',\n",
       "       'num_root', 'num_file_creations', 'num_access_files', 'is_guest_login',\n",
       "       'count', 'serror_rate', 'srv_serror_rate', 'rerror_rate',\n",
       "       'srv_rerror_rate', 'same_srv_rate', 'diff_srv_rate',\n",
       "       'srv_diff_host_rate', 'dst_host_count', 'dst_host_srv_count',\n",
       "       'dst_host_same_srv_rate', 'dst_host_diff_srv_rate',\n",
       "       'dst_host_same_src_port_rate', 'dst_host_srv_diff_host_rate',\n",
       "       'dst_host_serror_rate', 'dst_host_srv_serror_rate',\n",
       "       'dst_host_rerror_rate', 'dst_host_srv_rerror_rate', 'level', 'Class'],\n",
       "      dtype='object')"
      ]
     },
     "execution_count": 26,
     "metadata": {},
     "output_type": "execute_result"
    }
   ],
   "source": [
    "data.columns"
   ]
  },
  {
   "cell_type": "code",
   "execution_count": 27,
   "id": "bf8dc20f-d1f8-4813-943d-f65f29e3ce8a",
   "metadata": {
    "tags": []
   },
   "outputs": [
    {
     "data": {
      "text/plain": [
       "array(['tcp', 'udp', 'icmp'], dtype=object)"
      ]
     },
     "execution_count": 27,
     "metadata": {},
     "output_type": "execute_result"
    }
   ],
   "source": [
    "df['protocol_type'].unique()"
   ]
  },
  {
   "cell_type": "code",
   "execution_count": 28,
   "id": "d20c22a3-3a8c-4d3e-89bd-60850182400b",
   "metadata": {
    "tags": []
   },
   "outputs": [
    {
     "data": {
      "text/plain": [
       "array(['http', 'ftp_data', 'domain_u', 'smtp', 'pop_3', 'other', 'telnet',\n",
       "       'eco_i', 'private', 'finger', 'echo', 'courier', 'ecr_i', 'Z39_50',\n",
       "       'iso_tsap', 'netbios_ns', 'vmnet', 'kshell', 'ntp_u', 'rje',\n",
       "       'http_443', 'ldap', 'daytime', 'csnet_ns', 'exec', 'systat',\n",
       "       'imap4', 'mtp', 'ctf', 'discard', 'name', 'bgp', 'time', 'ssh',\n",
       "       'urp_i', 'supdup', 'ftp', 'link', 'uucp', 'gopher', 'klogin',\n",
       "       'uucp_path', 'pop_2', 'netbios_dgm', 'netstat', 'auth', 'nnsp',\n",
       "       'sql_net', 'whois', 'sunrpc', 'netbios_ssn', 'X11', 'hostnames',\n",
       "       'nntp', 'urh_i', 'efs', 'IRC', 'shell', 'printer', 'login',\n",
       "       'remote_job', 'domain', 'red_i'], dtype=object)"
      ]
     },
     "execution_count": 28,
     "metadata": {},
     "output_type": "execute_result"
    }
   ],
   "source": [
    "df['service'].unique()"
   ]
  },
  {
   "cell_type": "code",
   "execution_count": 29,
   "id": "4202be60-5bb5-4801-924a-a5849337ccd1",
   "metadata": {
    "tags": []
   },
   "outputs": [
    {
     "data": {
      "text/plain": [
       "array(['REJ', 'SF', 'S0', 'RSTR', 'RSTO', 'S3', 'SH', 'S1', 'S2',\n",
       "       'RSTOS0', 'OTH'], dtype=object)"
      ]
     },
     "execution_count": 29,
     "metadata": {},
     "output_type": "execute_result"
    }
   ],
   "source": [
    "df['flag'].unique()"
   ]
  },
  {
   "cell_type": "markdown",
   "id": "525544ac-243d-48b1-9f5a-6858594627c7",
   "metadata": {
    "tags": []
   },
   "source": [
    "#### Encoding:"
   ]
  },
  {
   "cell_type": "code",
   "execution_count": 30,
   "id": "7b35ef47-986f-4707-bd95-7f46ec6fa829",
   "metadata": {},
   "outputs": [],
   "source": [
    "service_encoding = {\n",
    "    'smtp': 0, 'http': 1, 'domain_u': 2, 'telnet': 3, 'ftp_data': 4, 'eco_i': 5, 'private': 6, 'urp_i': 7, 'other': 8,\n",
    "    'red_i': 9, 'ftp': 10, 'auth': 11, 'nnsp': 12, 'Z39_50': 13, 'domain': 14, 'kshell': 15, 'netstat': 16, 'whois': 17,\n",
    "    'systat': 18, 'imap4': 19, 'ecr_i': 20, 'klogin': 21, 'discard': 22, 'daytime': 23, 'ssh': 24, 'IRC': 25,\n",
    "    'uucp_path': 26, 'hostnames': 27, 'iso_tsap': 28, 'name': 29, 'sql_net': 30, 'ctf': 31, 'finger': 32, 'exec': 33,\n",
    "    'sunrpc': 34, 'netbios_ns': 35, 'efs': 36, 'uucp': 37, 'courier': 38, 'csnet_ns': 39, 'pop_3': 40, 'login': 41,\n",
    "    'ldap': 42, 'netbios_ssn': 43, 'ntp_u': 44, 'http_443': 45, 'supdup': 46, 'link': 47, 'X11': 48, 'gopher': 49,\n",
    "    'vmnet': 50, 'mtp': 51, 'netbios_dgm': 52, 'bgp': 53, 'time': 54, 'nntp': 55, 'echo': 56, 'printer': 57, 'shell': 58,\n",
    "    'urh_i': 59, 'remote_job': 60, 'pm_dump': 61, 'rje': 62, 'pop_2': 63, 'tim_i': 64\n",
    "}\n",
    "\n",
    "df['service'] = df['service'].map(service_encoding)"
   ]
  },
  {
   "cell_type": "code",
   "execution_count": 31,
   "id": "efe0e193-d444-433c-aab7-a0ab5483e7c8",
   "metadata": {},
   "outputs": [],
   "source": [
    "flag_encoding = {'S3' : 0 , 'SF' : 1, 'S1' : 2, 'SH' : 3, 'RSTR' : 4, 'RSTO' : 5, 'S2' : 6, 'REJ' : 7, 'RSTOS0' : 8, 'S0' : 9, 'OTH' : 10}\n",
    "df['flag'] = df['flag'].map(flag_encoding)"
   ]
  },
  {
   "cell_type": "code",
   "execution_count": 32,
   "id": "ae86cc83-edde-46f3-9152-497f93e438e8",
   "metadata": {},
   "outputs": [],
   "source": [
    "protocol_type_encoding = {'icmp' : 0 , 'udp' : 1, 'tcp' : 2 }\n",
    "\n",
    "df['protocol_type'] = df['protocol_type'].map(protocol_type_encoding)"
   ]
  },
  {
   "cell_type": "code",
   "execution_count": 33,
   "id": "2458d836-a81a-4690-97a8-a6fea942e7f6",
   "metadata": {
    "tags": []
   },
   "outputs": [
    {
     "data": {
      "text/plain": [
       "array([2, 1, 0], dtype=int64)"
      ]
     },
     "execution_count": 33,
     "metadata": {},
     "output_type": "execute_result"
    }
   ],
   "source": [
    "df[\"protocol_type\"].unique()"
   ]
  },
  {
   "cell_type": "code",
   "execution_count": 34,
   "id": "f50a1583-f136-4343-bd23-4b3fed744e2c",
   "metadata": {},
   "outputs": [
    {
     "data": {
      "text/plain": [
       "(5751, 32)"
      ]
     },
     "execution_count": 34,
     "metadata": {},
     "output_type": "execute_result"
    }
   ],
   "source": [
    "df.shape"
   ]
  },
  {
   "cell_type": "markdown",
   "id": "4603f20e-be26-4d14-92f8-36d5d2b6ff81",
   "metadata": {
    "tags": []
   },
   "source": [
    "#### Loading Model and making predictions:"
   ]
  },
  {
   "cell_type": "code",
   "execution_count": 35,
   "id": "4c5661f6-651a-46fd-a05b-8c310f065f55",
   "metadata": {
    "tags": []
   },
   "outputs": [],
   "source": [
    "loaded_model = joblib.load('best_model2.pkl')"
   ]
  },
  {
   "cell_type": "code",
   "execution_count": 36,
   "id": "7feb71fd-ad4f-477d-b2c8-056ad189f6d3",
   "metadata": {
    "tags": []
   },
   "outputs": [],
   "source": [
    "# Making predictions:\n",
    "predictions = loaded_model.predict(df)"
   ]
  },
  {
   "cell_type": "code",
   "execution_count": 37,
   "id": "2481ef5c-12ba-4cdd-ba88-9f5371040754",
   "metadata": {
    "tags": []
   },
   "outputs": [],
   "source": [
    "# Creating new dataframe:\n",
    "predictions_df = pd.DataFrame({'Prediction': predictions})"
   ]
  },
  {
   "cell_type": "code",
   "execution_count": 38,
   "id": "12485b3c-464c-4ff5-b306-1f2fef265353",
   "metadata": {
    "tags": []
   },
   "outputs": [],
   "source": [
    "# Saving it to Csv file:\n",
    "predictions_df.to_csv('predictions_output3.csv', index=False)"
   ]
  }
 ],
 "metadata": {
  "kernelspec": {
   "display_name": "Python [conda env:base] *",
   "language": "python",
   "name": "conda-base-py"
  },
  "language_info": {
   "codemirror_mode": {
    "name": "ipython",
    "version": 3
   },
   "file_extension": ".py",
   "mimetype": "text/x-python",
   "name": "python",
   "nbconvert_exporter": "python",
   "pygments_lexer": "ipython3",
   "version": "3.12.7"
  }
 },
 "nbformat": 4,
 "nbformat_minor": 5
}
